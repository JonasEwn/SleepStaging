{
 "cells": [
  {
   "metadata": {},
   "cell_type": "markdown",
   "source": "**Imports**",
   "id": "60ec7fae19e10fde"
  },
  {
   "cell_type": "code",
   "id": "initial_id",
   "metadata": {
    "collapsed": true,
    "ExecuteTime": {
     "end_time": "2024-08-25T00:55:49.328595Z",
     "start_time": "2024-08-25T00:55:43.403260Z"
    }
   },
   "source": [
    "import glob\n",
    "\n",
    "import mne\n",
    "from mne.preprocessing import ICA\n",
    "import os\n",
    "import re\n",
    "from bs4 import BeautifulSoup\n",
    "from sklearn.neighbors import KNeighborsClassifier\n",
    "#from sklearn.neural_network import MLPClassifier\n",
    "from sklearn.pipeline import make_pipeline\n",
    "from joblib import dump\n",
    "from sklearn.ensemble import RandomForestClassifier\n",
    "from matplotlib import pyplot as plt\n",
    "from sklearn.metrics import confusion_matrix, ConfusionMatrixDisplay, accuracy_score, classification_report\n",
    "from sklearn.model_selection import train_test_split, cross_val_score, GridSearchCV\n",
    "import numpy as np\n",
    "from scipy.stats import skew, kurtosis, entropy, mode\n",
    "from scipy.signal import stft, welch\n",
    "import antropy as ant\n",
    "from sklearn.preprocessing import StandardScaler\n",
    "from sklearn.svm import SVC\n",
    "from sklearn.tree import DecisionTreeClassifier\n",
    "from skrebate import ReliefF\n",
    "from xgboost import XGBClassifier\n",
    "from sklearn.ensemble import GradientBoostingClassifier, VotingClassifier, StackingClassifier\n",
    "from sklearn.linear_model import LogisticRegression\n",
    "from lightgbm import LGBMClassifier, LGBMModel"
   ],
   "outputs": [],
   "execution_count": 1
  },
  {
   "cell_type": "markdown",
   "id": "bcef33fbc237746e",
   "metadata": {},
   "source": [
    "**Iteriert durch den Ordner und sucht nach allen edf Dateien. Gefundene Dateien werden außerdem Sortiert**"
   ]
  },
  {
   "cell_type": "code",
   "id": "9d11422073da0e25",
   "metadata": {
    "ExecuteTime": {
     "end_time": "2024-08-25T00:55:49.333198Z",
     "start_time": "2024-08-25T00:55:49.330022Z"
    }
   },
   "source": [
    "def find_edf(directory):\n",
    "    paths = []\n",
    "    pattern = r\".*\\[\\d+\\].edf\"\n",
    "    # Iterate through all files in the directory\n",
    "    for filename in os.listdir(directory):\n",
    "        # Check if filename matches the pattern\n",
    "        if re.match(pattern, filename):\n",
    "            # Construct the full file path\n",
    "            filepath = os.path.join(directory, filename)\n",
    "            # Append to the list of paths\n",
    "            paths.append(filepath)\n",
    "    \n",
    "    paths.sort()\n",
    "    return paths"
   ],
   "outputs": [],
   "execution_count": 2
  },
  {
   "cell_type": "markdown",
   "id": "bdb527143c2a0ecc",
   "metadata": {},
   "source": [
    "**Liest einzelne EDF Datei aus. Und speichert gewünschte Kanäle**"
   ]
  },
  {
   "cell_type": "code",
   "id": "887204ee09c6d3e3",
   "metadata": {
    "ExecuteTime": {
     "end_time": "2024-08-25T00:55:49.339792Z",
     "start_time": "2024-08-25T00:55:49.335188Z"
    }
   },
   "source": [
    "def files_preparation(path):\n",
    "    include = [\n",
    "        'EEG C4-A1',\n",
    "        'EEG C3-A2', \n",
    "        'EOG ROC-A1', \n",
    "        'EOG LOC-A2', \n",
    "        'EMG Chin',\n",
    "        'ECG I', \n",
    "        'ECG II', \n",
    "        'EEG A1-A2'\n",
    "    ]\n",
    "\n",
    "    raw = mne.io.read_raw_edf(path, preload=True, verbose='error', include=include)\n",
    "    \n",
    "    raw.set_channel_types(\n",
    "        mapping={\n",
    "        'EEG C4-A1': 'eeg',\n",
    "        'EEG C3-A2': 'eeg',\n",
    "        'EEG A1-A2': 'eeg',\n",
    "        'EOG ROC-A1': 'eog',\n",
    "        'EOG LOC-A2': 'eog',\n",
    "        'EMG Chin': 'emg',\n",
    "        'ECG I': 'ecg',\n",
    "        'ECG II': 'ecg',\n",
    "        #'RR': 'ecg',\n",
    "        }\n",
    "    )\n",
    "    \n",
    "    return raw"
   ],
   "outputs": [],
   "execution_count": 3
  },
  {
   "cell_type": "markdown",
   "id": "c1136531cbd6a907",
   "metadata": {},
   "source": [
    "**Liest die Labels aus der .rml-Datei aus**"
   ]
  },
  {
   "cell_type": "code",
   "id": "2b7f8857ae217ccf",
   "metadata": {
    "ExecuteTime": {
     "end_time": "2024-08-25T00:55:49.346240Z",
     "start_time": "2024-08-25T00:55:49.341591Z"
    }
   },
   "source": [
    "def rml_to_annotations(directory, raw_data):\n",
    "    os.chdir(directory)\n",
    "    rml = None\n",
    "    for file in glob.glob(\"*.rml\"):\n",
    "        rml = file\n",
    "        break\n",
    "    with open(rml, 'r') as f:\n",
    "        rml_data = f.read()\n",
    "    user_staging = BeautifulSoup(rml_data, 'xml').find(\"UserStaging\").find(\"NeuroRKStaging\")\n",
    "    start_time = []\n",
    "    sleep_stage = []\n",
    "    for stage in user_staging.find_all('Stage'):\n",
    "        start_time.append(int(stage['Start']))\n",
    "        sleep_stage.append(stage['Type'])\n",
    "        \n",
    "    onset = np.array(start_time)\n",
    "    description = np.array(sleep_stage)\n",
    "    raw_duration = raw_data.times[-1] - raw_data.times[0]\n",
    "    duration = np.diff(np.append(onset, raw_duration))\n",
    "    return onset, description, duration"
   ],
   "outputs": [],
   "execution_count": 4
  },
  {
   "cell_type": "markdown",
   "id": "a9cbe9acac6bb901",
   "metadata": {},
   "source": [
    "**Macht aus der rohen Aufnahme 30 Sekunden Epochen**"
   ]
  },
  {
   "cell_type": "code",
   "id": "2d2fa810514839dd",
   "metadata": {
    "ExecuteTime": {
     "end_time": "2024-08-25T00:55:49.355410Z",
     "start_time": "2024-08-25T00:55:49.349216Z"
    }
   },
   "source": [
    "tmax = 30 - 1 / 200\n",
    "\n",
    "# Von MNE bzw von rml extrahierten Bezeichnungen: ['REM', 'Stage1', 'Stage2', 'Stage3', 'Wake']\n",
    "EVENTS_AASM = {\n",
    "    \"REM\": 1,\n",
    "    \"NREM 1\": 2,\n",
    "    \"NREM 2\": 3,\n",
    "    \"NREM 3\": 4,\n",
    "    \"Wake\": 5,\n",
    "}\n",
    "\n",
    "def data_preparation(directory):\n",
    "    print(\"Data for Directory:  \", directory)\n",
    "    paths = find_edf(directory)\n",
    "    data_list = []\n",
    "    for path in paths:\n",
    "        raw = files_preparation(path)\n",
    "        data_list.append(raw)\n",
    "    \n",
    "    raw_data = mne.concatenate_raws(data_list)\n",
    "        \n",
    "    \n",
    "    #----------------- Preprocessing ---------------------\n",
    "    # ---> Butterworth Filter 0.5 - 49.5 Hz\n",
    "    raw_data = raw_data.filter(\n",
    "        picks='all',\n",
    "        l_freq=0.5,\n",
    "        h_freq=49.5,\n",
    "        method='iir',\n",
    "        iir_params=dict(order=10, ftype='butter'),\n",
    "        verbose='error'\n",
    "    ) \n",
    "\n",
    "    #-----------------------------------------------------\n",
    "\n",
    "    \n",
    "    onset, description, duration = rml_to_annotations(directory, raw_data)\n",
    "    annotations = mne.Annotations(onset=onset, description=description, duration=duration)\n",
    "    annotations.crop(\n",
    "        annotations[1]['onset'] - 30 * 20, # 30 * 60 = 1200 Ersten 10 Minuten entfernen\n",
    "        annotations[-2]['onset'] + 30 * 20 # Letzten 10 Minuten entfernen\n",
    "    )\n",
    "    raw_data.set_annotations(annotations)\n",
    "        \n",
    "    events, _ = mne.events_from_annotations(\n",
    "        raw_data, \n",
    "        chunk_duration=30,\n",
    "        verbose='error'\n",
    "    )\n",
    "    \n",
    "    epochs = mne.Epochs(\n",
    "        raw=raw_data,\n",
    "        events=events,\n",
    "        event_id=EVENTS_AASM,\n",
    "        tmin=0.0,\n",
    "        baseline=None,\n",
    "        tmax=tmax,\n",
    "        verbose='error',\n",
    "        on_missing='warn'\n",
    "    )\n",
    "    \n",
    "    labels = epochs.events[:, 2]\n",
    "    \n",
    "    return epochs, labels"
   ],
   "outputs": [],
   "execution_count": 5
  },
  {
   "cell_type": "markdown",
   "id": "651daf3db4ff80af",
   "metadata": {},
   "source": [
    "**Feature Extraction. Welche Feature extrahiert werden wird in feature_extraction() bestimmt/aufgelistet**\n",
    "\n",
    "1. Time Domain Feature\n",
    "2. Frequency Domain Feature\n",
    "3. Non-Linear Features"
   ]
  },
  {
   "cell_type": "markdown",
   "id": "fa212ec23df5d85f",
   "metadata": {},
   "source": [
    "##### 1. Time Domain Features\n",
    "\n",
    "- Mean\n",
    "- Median\n",
    "- Mode\n",
    "- Minimum\n",
    "- Maximum\n",
    "- Standard Derivation\n",
    "- Variance Skewness\n",
    "- Kurtosis\n",
    "- Percentile\n",
    "- Hjorth Parameters\n",
    "    - Hjorth Mobility\n",
    "    - Hjorth Complexity\n",
    "    - Hjorth Activity -> Same as numpy.var(). Calulated earlier in Variance"
   ]
  },
  {
   "cell_type": "code",
   "id": "3f34ae805a9c79bb",
   "metadata": {
    "ExecuteTime": {
     "end_time": "2024-08-25T00:55:49.365701Z",
     "start_time": "2024-08-25T00:55:49.357213Z"
    }
   },
   "source": [
    "def mean(epochs):\n",
    "    data = epochs.get_data(verbose='error')\n",
    "    mean_features = np.mean(data, axis=2)\n",
    "    return mean_features\n",
    "\n",
    "def median(epochs):\n",
    "    data = epochs.get_data(verbose='error')\n",
    "    median_features = np.median(data, axis=2)\n",
    "    return median_features\n",
    "\n",
    "def mode_feat(epochs):\n",
    "    data = epochs.get_data(verbose='error')\n",
    "    mode_features, _ = mode(data, axis=2)\n",
    "    return mode_features\n",
    "\n",
    "def minimum(epochs):\n",
    "    data = epochs.get_data(verbose='error')\n",
    "    min_values = np.min(data, axis=2)\n",
    "    return min_values\n",
    "\n",
    "def maximum(epochs):\n",
    "    data = epochs.get_data(verbose='error')\n",
    "    return np.max(data, axis=2)\n",
    "\n",
    "def standard_derivation(epochs):\n",
    "    #Extract standard deviation features from a mne.Epochs object.\n",
    "    data = epochs.get_data(verbose='error')\n",
    "    std_features = np.std(data, axis=2)\n",
    "    return std_features\n",
    "\n",
    "def variance_skewness(epochs):\n",
    "    #Extract variance features from an mne.Epochs object.\n",
    "    \n",
    "    data = epochs.get_data(verbose='error')\n",
    "    variance_features = np.var(data, axis=2)\n",
    "    return variance_features\n",
    "\n",
    "def kurtosis_feat(epochs):\n",
    "    data = epochs.get_data(verbose='error')\n",
    "    kurtosis_data = kurtosis(data, axis=2, fisher=False)\n",
    "    return kurtosis_data\n",
    "\n",
    "def percentile(epochs, percent = 50):\n",
    "    data = epochs.get_data(verbose='error')\n",
    "    percentile_features = np.percentile(data, percent, axis=2)\n",
    "    return percentile_features\n",
    "\n",
    "def energy_sis(epochs):\n",
    "    data = epochs.get_data(verbose='error') \n",
    "    n_epochs, n_channels, n_times = data.shape\n",
    "\n",
    "    energy_array = np.zeros((n_epochs, n_channels))\n",
    "\n",
    "    for epoch_idx in range(n_epochs):\n",
    "        for channel_idx in range(n_channels):\n",
    "            signal = data[epoch_idx, channel_idx, :]\n",
    "\n",
    "            energy = np.sum(signal ** 2)\n",
    "\n",
    "            energy_array[epoch_idx, channel_idx] = energy\n",
    "\n",
    "    return energy_array\n",
    "\n",
    "\n",
    "def time_domain_features(epochs):\n",
    "    time_features_methods = [\n",
    "        # Hier werden die Time Domain Feature berechnet\n",
    "        mean(epochs),\n",
    "        median(epochs),\n",
    "        mode_feat(epochs),\n",
    "        minimum(epochs),\n",
    "        maximum(epochs),\n",
    "        standard_derivation(epochs),\n",
    "        variance_skewness(epochs),\n",
    "        kurtosis_feat(epochs),\n",
    "        percentile(epochs),\n",
    "        energy_sis(epochs)\n",
    "        \n",
    "    ]\n",
    "    return np.concatenate(time_features_methods, axis=1)"
   ],
   "outputs": [],
   "execution_count": 6
  },
  {
   "cell_type": "markdown",
   "id": "64b02ef0e77d5f7b",
   "metadata": {},
   "source": [
    "##### 2. Frequency Domain Features\n",
    "\n",
    "- Relative Spectral Power\n",
    "- Band Power -> Delta, Theta, Alpha, Beta, Slow wave Frequency Sub-Bands\n",
    "- 7 Power Ratios"
   ]
  },
  {
   "cell_type": "code",
   "id": "519b1ef2b0bf0864",
   "metadata": {
    "ExecuteTime": {
     "end_time": "2024-08-25T00:55:49.374074Z",
     "start_time": "2024-08-25T00:55:49.366746Z"
    }
   },
   "source": [
    "def eeg_power_band(epochs):\n",
    "    \"\"\"EEG Power bands \"\"\"\n",
    "    \n",
    "    FREQ_BANDS = {\n",
    "        \"delta\": [0, 3.99], #[0.5, 4],\n",
    "        \"theta\": [4, 7.99], #[4, 8],\n",
    "        \"alpha\": [8, 13],\n",
    "        #\"sigma\": [12, 16],\n",
    "        \"slow wave\": [0.5, 2.0],\n",
    "        \"beta\": [13, 49.5],\n",
    "    }\n",
    "\n",
    "    spectrum = epochs.compute_psd(picks=\"eeg\", method='welch', fmin=0.5, fmax=30.0, verbose='error')\n",
    "    psds, freqs = spectrum.get_data(return_freqs=True)\n",
    "    psds /= np.sum(psds, axis=-1, keepdims=True)\n",
    "\n",
    "    X = []\n",
    "    for fmin, fmax in FREQ_BANDS.values():\n",
    "        psds_band = psds[:, :, (freqs >= fmin) & (freqs < fmax)].mean(axis=-1)\n",
    "        X.append(psds_band.reshape(len(psds), -1))\n",
    "\n",
    "    re = np.concatenate(X, axis=1)\n",
    "    return re\n",
    "\n",
    "\n",
    "def frequency_domain_features(epochs):\n",
    "    frequency_features_methods = [\n",
    "        eeg_power_band(epochs),\n",
    "    ]\n",
    "    return np.concatenate(frequency_features_methods, axis=1)\n"
   ],
   "outputs": [],
   "execution_count": 7
  },
  {
   "cell_type": "markdown",
   "id": "8e425f3cb06d5dc0",
   "metadata": {},
   "source": [
    "##### 3. Non-Linear Features\n",
    "\n",
    "- Zero-Cross-Rate\n",
    "- Spectral Entropy"
   ]
  },
  {
   "cell_type": "code",
   "id": "7cf5c27eda6674a2",
   "metadata": {
    "ExecuteTime": {
     "end_time": "2024-08-25T00:55:49.380542Z",
     "start_time": "2024-08-25T00:55:49.375258Z"
    }
   },
   "source": [
    "def zero_cross_rate(epochs):\n",
    "    data = epochs.get_data(verbose='error')\n",
    "    return np.mean(np.diff(np.sign(data), axis=2) != 0, axis=2)\n",
    "\n",
    "def spectral_entropy(epochs, method='fft', **kwargs):\n",
    "\n",
    "    data = epochs.get_data(verbose='error')\n",
    "    sfreq = epochs.info['sfreq']\n",
    "    n_epochs, n_channels, n_times = data.shape\n",
    "    \n",
    "    spec_entropy_array = np.zeros((n_epochs, n_channels))\n",
    "    \n",
    "    for epoch_idx in range(n_epochs):\n",
    "        for channel_idx in range(n_channels):\n",
    "            single_epoch_data = data[epoch_idx, channel_idx, :]\n",
    "            se = ant.spectral_entropy(single_epoch_data, method=method, sf=sfreq, **kwargs)\n",
    "            spec_entropy_array[epoch_idx, channel_idx] = se\n",
    "    \n",
    "    return spec_entropy_array\n",
    "\n",
    "def non_linear_features(epochs):\n",
    "    nlinear_features_methods = [\n",
    "        zero_cross_rate(epochs),\n",
    "        spectral_entropy(epochs)\n",
    "    ]\n",
    "    return np.concatenate(nlinear_features_methods, axis=1)"
   ],
   "outputs": [],
   "execution_count": 8
  },
  {
   "cell_type": "markdown",
   "id": "d71a09d97848d9c0",
   "metadata": {},
   "source": [
    "**Feature Funktion**"
   ]
  },
  {
   "cell_type": "code",
   "id": "21d99d907bdad50c",
   "metadata": {
    "ExecuteTime": {
     "end_time": "2024-08-25T00:55:49.384920Z",
     "start_time": "2024-08-25T00:55:49.381702Z"
    }
   },
   "source": [
    "def feature_extraction(epochs):\n",
    "    \n",
    "    features_methods = [\n",
    "        time_domain_features(epochs),\n",
    "        frequency_domain_features(epochs),\n",
    "        non_linear_features(epochs)\n",
    "    ]\n",
    "    \n",
    "    features_methods = np.concatenate(features_methods, axis=1)\n",
    "    return features_methods"
   ],
   "outputs": [],
   "execution_count": 9
  },
  {
   "cell_type": "markdown",
   "id": "3c547848fbb24d30",
   "metadata": {},
   "source": [
    "**Sucht nach allen Unterordner, liest diese aus und gibt fertige Epochen aus allen Dateien zurück**"
   ]
  },
  {
   "cell_type": "code",
   "id": "40e958a204e07714",
   "metadata": {
    "ExecuteTime": {
     "end_time": "2024-08-25T08:34:36.314551Z",
     "start_time": "2024-08-25T00:55:49.386249Z"
    }
   },
   "source": [
    "def list_subdirectories(directory):\n",
    "    return [os.path.join(directory, sub_dir) for sub_dir in os.listdir(directory) if os.path.isdir(os.path.join(directory, sub_dir))]\n",
    "\n",
    "def process_all_folders(main_directory):\n",
    "    \"\"\"Iterates over all subdirectories in the main directory and prepares data.\"\"\"\n",
    "    all_epochs = []\n",
    "    all_labels = []\n",
    "    \n",
    "    subdirectories = list_subdirectories(main_directory)\n",
    "    \n",
    "    for sub_dir in subdirectories:\n",
    "        epochs, labels = data_preparation(sub_dir)\n",
    "        epochs = feature_extraction(epochs)\n",
    "        all_epochs.append(epochs)\n",
    "        all_labels.append(labels)\n",
    "    \n",
    "    # Combine all data if needed\n",
    "    combined_epochs = np.concatenate(all_epochs, axis=0) if all_epochs else None\n",
    "    combined_labels = np.concatenate(all_labels, axis=0) if all_labels else None\n",
    "    \n",
    "    return combined_epochs, combined_labels\n",
    "\n",
    "# Example usage\n",
    "main_directory = '/Volumes/Jonas_SSD/test'\n",
    "X, y = process_all_folders(main_directory)"
   ],
   "outputs": [
    {
     "name": "stdout",
     "output_type": "stream",
     "text": [
      "Data for Directory:   /Volumes/Jonas_SSD/test/00000021-A5BS00755\n",
      "Data for Directory:   /Volumes/Jonas_SSD/test/00000702-A5BS00755\n",
      "Data for Directory:   /Volumes/Jonas_SSD/test/00000042-A5BS00755\n",
      "Data for Directory:   /Volumes/Jonas_SSD/test/00000775-A5BS00755\n",
      "Data for Directory:   /Volumes/Jonas_SSD/test/00000035-A5BS00755\n",
      "Data for Directory:   /Volumes/Jonas_SSD/test/00000398-A5BS00755\n",
      "Data for Directory:   /Volumes/Jonas_SSD/test/00000062-A5BS00755\n",
      "Data for Directory:   /Volumes/Jonas_SSD/test/00000706-A5BS00755\n",
      "Data for Directory:   /Volumes/Jonas_SSD/test/00000043-A5BS00755\n",
      "Data for Directory:   /Volumes/Jonas_SSD/test/00000055-A5BS00755\n",
      "Data for Directory:   /Volumes/Jonas_SSD/test/00000708-A5BS00755\n",
      "Data for Directory:   /Volumes/Jonas_SSD/test/00000060-A5BS00755\n",
      "Data for Directory:   /Volumes/Jonas_SSD/test/00000077-A5BS00755\n",
      "Data for Directory:   /Volumes/Jonas_SSD/test/00000709-A5BS00755\n",
      "Data for Directory:   /Volumes/Jonas_SSD/test/00000070-A5BS00755\n",
      "Data for Directory:   /Volumes/Jonas_SSD/test/00000087-A5BS00755\n",
      "Data for Directory:   /Volumes/Jonas_SSD/test/00000710-A5BS00755\n",
      "Data for Directory:   /Volumes/Jonas_SSD/test/00000079-A5BS00755\n",
      "Data for Directory:   /Volumes/Jonas_SSD/test/00000080-A5BS00755\n",
      "Data for Directory:   /Volumes/Jonas_SSD/test/00000719-A5BS00755\n",
      "Data for Directory:   /Volumes/Jonas_SSD/test/00000086-A5BS00755\n",
      "Data for Directory:   /Volumes/Jonas_SSD/test/00000089-A5BS00755\n",
      "Data for Directory:   /Volumes/Jonas_SSD/test/00000726-A5BS00755\n",
      "Data for Directory:   /Volumes/Jonas_SSD/test/00000091-A5BS00755\n",
      "Data for Directory:   /Volumes/Jonas_SSD/test/00000094-A5BS00755\n",
      "Data for Directory:   /Volumes/Jonas_SSD/test/00000727-A5BS00755\n",
      "Data for Directory:   /Volumes/Jonas_SSD/test/00000106-A5BS00755\n",
      "Data for Directory:   /Volumes/Jonas_SSD/test/00000107-A5BS00755\n",
      "Data for Directory:   /Volumes/Jonas_SSD/test/00000728-A5BS00755\n",
      "Data for Directory:   /Volumes/Jonas_SSD/test/00000108-A5BS00755\n",
      "Data for Directory:   /Volumes/Jonas_SSD/test/00000110-A5BS00755\n",
      "Data for Directory:   /Volumes/Jonas_SSD/test/00000731-A5BS00755\n",
      "Data for Directory:   /Volumes/Jonas_SSD/test/00000111-A5BS00755\n",
      "Data for Directory:   /Volumes/Jonas_SSD/test/00000113-A5BS00755\n",
      "Data for Directory:   /Volumes/Jonas_SSD/test/00000736-A5BS00755\n",
      "Data for Directory:   /Volumes/Jonas_SSD/test/00000114-A5BS00755\n",
      "Data for Directory:   /Volumes/Jonas_SSD/test/00000115-A5BS00755\n",
      "Data for Directory:   /Volumes/Jonas_SSD/test/00000743-A5BS00755\n",
      "Data for Directory:   /Volumes/Jonas_SSD/test/00000116-A5BS00755\n",
      "Data for Directory:   /Volumes/Jonas_SSD/test/00000117-A5BS00755\n",
      "Data for Directory:   /Volumes/Jonas_SSD/test/00000744-A5BS00755\n",
      "Data for Directory:   /Volumes/Jonas_SSD/test/00000123-A5BS00755\n",
      "Data for Directory:   /Volumes/Jonas_SSD/test/00000124-A5BS00755\n",
      "Data for Directory:   /Volumes/Jonas_SSD/test/00000751-A5BS00755\n",
      "Data for Directory:   /Volumes/Jonas_SSD/test/00000126-A5BS00755\n",
      "Data for Directory:   /Volumes/Jonas_SSD/test/00000127-A5BS00755\n",
      "Data for Directory:   /Volumes/Jonas_SSD/test/00000752-A5BS00755\n",
      "Data for Directory:   /Volumes/Jonas_SSD/test/00000133-A5BS00755\n",
      "Data for Directory:   /Volumes/Jonas_SSD/test/00000136-A5BS00755\n",
      "Data for Directory:   /Volumes/Jonas_SSD/test/00000753-A5BS00755\n",
      "Data for Directory:   /Volumes/Jonas_SSD/test/00000137-A5BS00755\n",
      "Data for Directory:   /Volumes/Jonas_SSD/test/00000139-A5BS00755\n",
      "Data for Directory:   /Volumes/Jonas_SSD/test/00000755-A5BS00755\n",
      "Data for Directory:   /Volumes/Jonas_SSD/test/00000145-A5BS00755\n",
      "Data for Directory:   /Volumes/Jonas_SSD/test/00000147-A5BS00755\n",
      "Data for Directory:   /Volumes/Jonas_SSD/test/00000759-A5BS00755\n",
      "Data for Directory:   /Volumes/Jonas_SSD/test/00000152-A5BS00755\n",
      "Data for Directory:   /Volumes/Jonas_SSD/test/00000153-A5BS00755\n",
      "Data for Directory:   /Volumes/Jonas_SSD/test/00000767-A5BS00755\n",
      "Data for Directory:   /Volumes/Jonas_SSD/test/00000160-A5BS00755\n",
      "Data for Directory:   /Volumes/Jonas_SSD/test/00000161-A5BS00755\n",
      "Data for Directory:   /Volumes/Jonas_SSD/test/00000769-A5BS00755\n",
      "Data for Directory:   /Volumes/Jonas_SSD/test/00000169-A5BS00755\n",
      "Data for Directory:   /Volumes/Jonas_SSD/test/00000180-A5BS00755\n",
      "Data for Directory:   /Volumes/Jonas_SSD/test/00000770-A5BS00755\n",
      "Data for Directory:   /Volumes/Jonas_SSD/test/00000181-A5BS00755\n",
      "Data for Directory:   /Volumes/Jonas_SSD/test/00000193-A5BS00755\n",
      "Data for Directory:   /Volumes/Jonas_SSD/test/00000772-A5BS00755\n",
      "Data for Directory:   /Volumes/Jonas_SSD/test/00000199-A5BS00755\n",
      "Data for Directory:   /Volumes/Jonas_SSD/test/00000204-A5BS00755\n",
      "Data for Directory:   /Volumes/Jonas_SSD/test/00000774-A5BS00755\n",
      "Data for Directory:   /Volumes/Jonas_SSD/test/00000206-A5BS00755\n",
      "Data for Directory:   /Volumes/Jonas_SSD/test/00000207-A5BS00755\n",
      "Data for Directory:   /Volumes/Jonas_SSD/test/00000211-A5BS00755\n",
      "Data for Directory:   /Volumes/Jonas_SSD/test/00000213-A5BS00755\n",
      "Data for Directory:   /Volumes/Jonas_SSD/test/00000216-A5BS00755\n",
      "Data for Directory:   /Volumes/Jonas_SSD/test/00000223-A5BS00755\n",
      "Data for Directory:   /Volumes/Jonas_SSD/test/00000231-A5BS00755\n",
      "Data for Directory:   /Volumes/Jonas_SSD/test/00000233-A5BS00755\n",
      "Data for Directory:   /Volumes/Jonas_SSD/test/00000242-A5BS00755\n",
      "Data for Directory:   /Volumes/Jonas_SSD/test/00000243-A5BS00755\n",
      "Data for Directory:   /Volumes/Jonas_SSD/test/00000245-A5BS00755\n",
      "Data for Directory:   /Volumes/Jonas_SSD/test/00000246-A5BS00755\n",
      "Data for Directory:   /Volumes/Jonas_SSD/test/00000248-A5BS00755\n",
      "Data for Directory:   /Volumes/Jonas_SSD/test/00000263-A5BS00755\n",
      "Data for Directory:   /Volumes/Jonas_SSD/test/00000273-A5BS00755\n",
      "Data for Directory:   /Volumes/Jonas_SSD/test/00000283-A5BS00755\n",
      "Data for Directory:   /Volumes/Jonas_SSD/test/00000284-A5BS00755\n",
      "Data for Directory:   /Volumes/Jonas_SSD/test/00000285-A5BS00755\n",
      "Data for Directory:   /Volumes/Jonas_SSD/test/00000287-A5BS00755\n",
      "Data for Directory:   /Volumes/Jonas_SSD/test/00000293-A5BS00755\n",
      "Data for Directory:   /Volumes/Jonas_SSD/test/00000297-A5BS00755\n",
      "Data for Directory:   /Volumes/Jonas_SSD/test/00000299-A5BS00755\n",
      "Data for Directory:   /Volumes/Jonas_SSD/test/00000300-A5BS00755\n",
      "Data for Directory:   /Volumes/Jonas_SSD/test/00000319-A5BS00755\n",
      "Data for Directory:   /Volumes/Jonas_SSD/test/00000321-A5BS00755\n",
      "Data for Directory:   /Volumes/Jonas_SSD/test/00000322-A5BS00755\n",
      "Data for Directory:   /Volumes/Jonas_SSD/test/00000330-A5BS00755\n",
      "Data for Directory:   /Volumes/Jonas_SSD/test/00000331-A5BS00755\n",
      "Data for Directory:   /Volumes/Jonas_SSD/test/00000342-A5BS00755\n",
      "Data for Directory:   /Volumes/Jonas_SSD/test/00000351-A5BS00755\n",
      "Data for Directory:   /Volumes/Jonas_SSD/test/00000352-A5BS00755\n",
      "Data for Directory:   /Volumes/Jonas_SSD/test/00000357-A5BS00755\n",
      "Data for Directory:   /Volumes/Jonas_SSD/test/00000359-A5BS00755\n",
      "Data for Directory:   /Volumes/Jonas_SSD/test/00000368-A5BS00755\n",
      "Data for Directory:   /Volumes/Jonas_SSD/test/00000369-A5BS00755\n",
      "Data for Directory:   /Volumes/Jonas_SSD/test/00000378-A5BS00755\n",
      "Data for Directory:   /Volumes/Jonas_SSD/test/00000380-A5BS00755\n",
      "Data for Directory:   /Volumes/Jonas_SSD/test/00000384-A5BS00755\n",
      "Data for Directory:   /Volumes/Jonas_SSD/test/00000385-A5BS00755\n",
      "Data for Directory:   /Volumes/Jonas_SSD/test/00000386-A5BS00755\n",
      "Data for Directory:   /Volumes/Jonas_SSD/test/00000395-A5BS00755\n",
      "Data for Directory:   /Volumes/Jonas_SSD/test/00000396-A5BS00755\n",
      "Data for Directory:   /Volumes/Jonas_SSD/test/00000403-A5BS00755\n",
      "Data for Directory:   /Volumes/Jonas_SSD/test/00000416-A5BS00755\n",
      "Data for Directory:   /Volumes/Jonas_SSD/test/00000423-A5BS00755\n",
      "Data for Directory:   /Volumes/Jonas_SSD/test/00000424-A5BS00755\n",
      "Data for Directory:   /Volumes/Jonas_SSD/test/00000425-A5BS00755\n",
      "Data for Directory:   /Volumes/Jonas_SSD/test/00000427-A5BS00755\n",
      "Data for Directory:   /Volumes/Jonas_SSD/test/00000431-A5BS00755\n",
      "Data for Directory:   /Volumes/Jonas_SSD/test/00000432-A5BS00755\n",
      "Data for Directory:   /Volumes/Jonas_SSD/test/00000441-A5BS00755\n",
      "Data for Directory:   /Volumes/Jonas_SSD/test/00000448-A5BS00755\n",
      "Data for Directory:   /Volumes/Jonas_SSD/test/00000458-A5BS00755\n",
      "Data for Directory:   /Volumes/Jonas_SSD/test/00000466-A5BS00755\n",
      "Data for Directory:   /Volumes/Jonas_SSD/test/00000480-A5BS00755\n",
      "Data for Directory:   /Volumes/Jonas_SSD/test/00000493-A5BS00755\n",
      "Data for Directory:   /Volumes/Jonas_SSD/test/00000494-A5BS00755\n",
      "Data for Directory:   /Volumes/Jonas_SSD/test/00000496-A5BS00755\n",
      "Data for Directory:   /Volumes/Jonas_SSD/test/00000500-A5BS00755\n",
      "Data for Directory:   /Volumes/Jonas_SSD/test/00000501-A5BS00755\n",
      "Data for Directory:   /Volumes/Jonas_SSD/test/00000509-A5BS00755\n",
      "Data for Directory:   /Volumes/Jonas_SSD/test/00000512-A5BS00755\n",
      "Data for Directory:   /Volumes/Jonas_SSD/test/00000515-A5BS00755\n",
      "Data for Directory:   /Volumes/Jonas_SSD/test/00000516-A5BS00755\n",
      "Data for Directory:   /Volumes/Jonas_SSD/test/00000517-A5BS00755\n",
      "Data for Directory:   /Volumes/Jonas_SSD/test/00000519-A5BS00755\n",
      "Data for Directory:   /Volumes/Jonas_SSD/test/00000523-A5BS00755\n",
      "Data for Directory:   /Volumes/Jonas_SSD/test/00000527-A5BS00755\n",
      "Data for Directory:   /Volumes/Jonas_SSD/test/00000529-A5BS00755\n",
      "Data for Directory:   /Volumes/Jonas_SSD/test/00000531-A5BS00755\n",
      "Data for Directory:   /Volumes/Jonas_SSD/test/00000534-A5BS00755\n",
      "Data for Directory:   /Volumes/Jonas_SSD/test/00000536-A5BS00755\n",
      "Data for Directory:   /Volumes/Jonas_SSD/test/00000538-A5BS00755\n",
      "Data for Directory:   /Volumes/Jonas_SSD/test/00000542-A5BS00755\n",
      "Data for Directory:   /Volumes/Jonas_SSD/test/00000543-A5BS00755\n",
      "Data for Directory:   /Volumes/Jonas_SSD/test/00000544-A5BS00755\n",
      "Data for Directory:   /Volumes/Jonas_SSD/test/00000546-A5BS00755\n",
      "Data for Directory:   /Volumes/Jonas_SSD/test/00000548-A5BS00755\n",
      "Data for Directory:   /Volumes/Jonas_SSD/test/00000550-A5BS00755\n",
      "Data for Directory:   /Volumes/Jonas_SSD/test/00000551-A5BS00755\n",
      "Data for Directory:   /Volumes/Jonas_SSD/test/00000552-A5BS00755\n",
      "Data for Directory:   /Volumes/Jonas_SSD/test/00000553-A5BS00755\n",
      "Data for Directory:   /Volumes/Jonas_SSD/test/00000561-A5BS00755\n",
      "Data for Directory:   /Volumes/Jonas_SSD/test/00000562-A5BS00755\n",
      "Data for Directory:   /Volumes/Jonas_SSD/test/00000574-A5BS00755\n",
      "Data for Directory:   /Volumes/Jonas_SSD/test/00000576-A5BS00755\n",
      "Data for Directory:   /Volumes/Jonas_SSD/test/00000578-A5BS00755\n",
      "Data for Directory:   /Volumes/Jonas_SSD/test/00000586-A5BS00755\n",
      "Data for Directory:   /Volumes/Jonas_SSD/test/00000597-A5BS00755\n",
      "Data for Directory:   /Volumes/Jonas_SSD/test/00000605-A5BS00755\n",
      "Data for Directory:   /Volumes/Jonas_SSD/test/00000614-A5BS00755\n",
      "Data for Directory:   /Volumes/Jonas_SSD/test/00000645-A5BS00755\n",
      "Data for Directory:   /Volumes/Jonas_SSD/test/00000649-A5BS00755\n",
      "Data for Directory:   /Volumes/Jonas_SSD/test/00000657-A5BS00755\n",
      "Data for Directory:   /Volumes/Jonas_SSD/test/00000658-A5BS00755\n",
      "Data for Directory:   /Volumes/Jonas_SSD/test/00000666-A5BS00755\n",
      "Data for Directory:   /Volumes/Jonas_SSD/test/00000674-A5BS00755\n",
      "Data for Directory:   /Volumes/Jonas_SSD/test/00000676-A5BS00755\n",
      "Data for Directory:   /Volumes/Jonas_SSD/test/00000685-A5BS00755\n",
      "Data for Directory:   /Volumes/Jonas_SSD/test/00000686-A5BS00755\n",
      "Data for Directory:   /Volumes/Jonas_SSD/test/00000687-A5BS00755\n"
     ]
    }
   ],
   "execution_count": 10
  },
  {
   "cell_type": "code",
   "id": "53bb26984992d64f",
   "metadata": {
    "ExecuteTime": {
     "end_time": "2024-08-25T08:34:36.320243Z",
     "start_time": "2024-08-25T08:34:36.315690Z"
    }
   },
   "source": [
    "X.shape"
   ],
   "outputs": [
    {
     "data": {
      "text/plain": [
       "(129754, 111)"
      ]
     },
     "execution_count": 11,
     "metadata": {},
     "output_type": "execute_result"
    }
   ],
   "execution_count": 11
  },
  {
   "cell_type": "code",
   "id": "861e8b01aebcba13",
   "metadata": {
    "ExecuteTime": {
     "end_time": "2024-08-25T08:34:36.325959Z",
     "start_time": "2024-08-25T08:34:36.321495Z"
    }
   },
   "source": [
    "y.shape"
   ],
   "outputs": [
    {
     "data": {
      "text/plain": [
       "(129754,)"
      ]
     },
     "execution_count": 12,
     "metadata": {},
     "output_type": "execute_result"
    }
   ],
   "execution_count": 12
  },
  {
   "metadata": {},
   "cell_type": "markdown",
   "source": "**Normalization**",
   "id": "65d30a344696e56d"
  },
  {
   "cell_type": "code",
   "id": "273a39448ebc8f48",
   "metadata": {
    "ExecuteTime": {
     "end_time": "2024-08-25T08:34:36.437432Z",
     "start_time": "2024-08-25T08:34:36.327297Z"
    }
   },
   "source": [
    "print(f\"Before Scaling: {X[222, :10]}\") # Selects 10 values of epoch 222 to showcase normalization\n",
    "X = StandardScaler().fit_transform(X)\n",
    "print(f\"After Scaling:  {X[222, :10]}\")"
   ],
   "outputs": [
    {
     "name": "stdout",
     "output_type": "stream",
     "text": [
      "Before Scaling: [ 2.64504821e-08 -1.64480549e-08  6.15684526e-08 -4.74998777e-09\n",
      " -1.11762382e-09  2.17014702e-09  1.32438149e-07 -2.54186287e-08\n",
      " -1.73766874e-07  5.28585550e-08]\n",
      "After Scaling:  [ 0.2242799  -0.14475999  0.50272108 -0.03499775 -0.01375852  0.00717116\n",
      "  0.19499255 -0.06149885 -0.68829066  0.04905104]\n"
     ]
    }
   ],
   "execution_count": 13
  },
  {
   "cell_type": "markdown",
   "id": "faaf972ed5fc10f9",
   "metadata": {},
   "source": [
    "**Train/Test Split**"
   ]
  },
  {
   "cell_type": "code",
   "id": "e46e4625108e3934",
   "metadata": {
    "ExecuteTime": {
     "end_time": "2024-08-25T08:34:36.488140Z",
     "start_time": "2024-08-25T08:34:36.440819Z"
    }
   },
   "source": "X_train, X_test, y_train, y_test = train_test_split(X, y, test_size=0.2)",
   "outputs": [],
   "execution_count": 14
  },
  {
   "cell_type": "code",
   "id": "890794ca6d49aed5",
   "metadata": {
    "ExecuteTime": {
     "end_time": "2024-08-25T08:34:36.567334Z",
     "start_time": "2024-08-25T08:34:36.489326Z"
    }
   },
   "source": [
    "X_sample, _, y_sample, _ = train_test_split(X, y, train_size=0.20, stratify=y, random_state=42)\n",
    "\n",
    "print(f\"Originale Anzahl der Instanzen: {X.shape[0]}\")\n",
    "print(f\"Reduzierte Anzahl der Instanzen: {X_sample.shape[0]}\")"
   ],
   "outputs": [
    {
     "name": "stdout",
     "output_type": "stream",
     "text": [
      "Originale Anzahl der Instanzen: 129754\n",
      "Reduzierte Anzahl der Instanzen: 25950\n"
     ]
    }
   ],
   "execution_count": 15
  },
  {
   "cell_type": "markdown",
   "id": "cb73dfce5e86773d",
   "metadata": {},
   "source": [
    "**Machine Learning Modell wird trainiert und Kreuz-Validiert**\n",
    "\n",
    "EEG + ECG -> Random Forest:\n",
    "- 72,--% -> kein Overfitting mit 15 Features und 15% Sample-Rate\n",
    "- 73,72% -> 73%(CV) also kein Overfitting mit 25 Features und 20% Sample-Rate\n",
    "- 74,88% -> 74%(CV) kein Overfitting mit 30 Features und 20% Sample-Rate\n",
    "- 74,98% -> 74,5%(CV) kein Overfitting - alle Klassen precision f1Score recall 70+ % accuracy - mit 40 Feature und 20% Sample Rate\n",
    "- 75,76% -> 75%(CV) kein Overfitting - alle Klassen 70+ % - mit 50 Feature und 20% Sample Rate \n",
    "- 75,95% -> 75%(CV) kein Overfitting - alle Klassen 70+ % - mit 60 Feature und 20% Sample Rate\n",
    "\n",
    "\n",
    "EEG + ECG + EOG -> Random Forest:\n",
    "- 76,48 -> 75,8% (CV) kein OVerfitting - alle Klassen 70+ % - mit 60 Feature und 20% Sample Rate\n",
    "- 76,01% -> 75,4% (CV) kein Overfitting - alle Klassen 70+ % - mit 45 Feature und 20% Sample Rate\n",
    "- 76,77% -> 76,3% (CV) kein Overfitting - alle Klassen 71+ % - mit 80 Feature und 20% Sample Rate"
   ]
  },
  {
   "metadata": {},
   "cell_type": "markdown",
   "source": "**Feature importance with ReliefF**",
   "id": "e24970de7a399fdf"
  },
  {
   "metadata": {
    "ExecuteTime": {
     "end_time": "2024-08-25T09:13:10.435409Z",
     "start_time": "2024-08-25T08:34:36.568745Z"
    }
   },
   "cell_type": "code",
   "source": [
    "relieff = ReliefF(n_neighbors=100, n_features_to_select=None, verbose=True, n_jobs=-1)\n",
    "relieff.fit(X_sample, y_sample)\n",
    "\n",
    "feature_scores = relieff.feature_importances_\n",
    "sorted_indices = np.argsort(feature_scores)[::-1]\n",
    "sorted_scores = feature_scores[sorted_indices]\n",
    "\n",
    "positive_indices = sorted_indices[sorted_scores > 0]\n",
    "\n",
    "X_train = X_train[:, positive_indices]\n",
    "X_test = X_test[:, positive_indices]\n",
    "\n",
    "print(f\"Selected positive features indices: {positive_indices}\")\n",
    "print(f\"Von {X.shape[1]} berechneten Features werden {X_train.shape[1]} verwendet.\")\n",
    "\n",
    "# Plot all feature importances\n",
    "plt.figure(figsize=(18, 8))\n",
    "plt.bar(range(len(sorted_scores)), sorted_scores, tick_label=sorted_indices)\n",
    "plt.xlabel('Feature Index')\n",
    "plt.ylabel('Feature Importance Score')\n",
    "plt.title('Feature Importances Using ReliefF')\n",
    "plt.xticks(rotation=90)\n",
    "plt.show()"
   ],
   "id": "4a4a237fc6dcd499",
   "outputs": [
    {
     "name": "stdout",
     "output_type": "stream",
     "text": [
      "Created distance array in 36.739124059677124 seconds.\n",
      "Feature scoring under way ...\n",
      "Completed scoring in 2276.3759458065033 seconds.\n",
      "Selected positive features indices: [ 81  80  96  95  93  94  82  92  90  38  89  70  14  97  87  85 104  91\n",
      " 102 103  84  83  86 106  98 105  88  99  71  15 100  39  46 110  30  22\n",
      " 109  13  69 107  35  36  40 108  34  17  25  31  23  27  19  32  33  41\n",
      "  44  24  16 101  18  26  37  28  20  42  43  10  66  47  21  29  78  54\n",
      "  45  67  11   8  64   9  65  62  61  48  72  12  68  63  55  79  60  76\n",
      "  52  75  51  74  50  73  49  53  77   3  59  58   2   4  57   0  56   6\n",
      "   5   1   7]\n",
      "Von 111 berechneten Features werden 111 verwendet.\n"
     ]
    },
    {
     "data": {
      "text/plain": [
       "<Figure size 1800x800 with 1 Axes>"
      ],
      "image/png": "[encoded data removed]"
     },
     "metadata": {},
     "output_type": "display_data"
    }
   ],
   "execution_count": 16
  },
  {
   "metadata": {},
   "cell_type": "markdown",
   "source": "**Training**",
   "id": "352e19c9ecd28998"
  },
  {
   "cell_type": "code",
   "id": "551a5a17516b11d8",
   "metadata": {
    "ExecuteTime": {
     "end_time": "2024-08-25T12:45:13.767538Z",
     "start_time": "2024-08-25T11:39:26.698798Z"
    }
   },
   "source": [
    "pipe = make_pipeline(\n",
    "    SVC(C=10, decision_function_shape='ovr', gamma='scale'),\n",
    "    #RandomForestClassifier(n_estimators=400, min_samples_split=2, min_samples_leaf=1, n_jobs=-1),\n",
    "    #KNeighborsClassifier(n_neighbors=15, weights=\"uniform\", metric='manhattan', n_jobs=-1),\n",
    "    #LGBMClassifier(n_estimators=500, learning_rate=0.2, verbose=0, n_jobs=-1),\n",
    ")\n",
    "\n",
    "# Grid Search\n",
    "param_grid = {\n",
    "    'svc__C': [0.1, 1, 10, 100],  # Regularisierungsparameter\n",
    "    'svc__gamma': ['scale', 'auto', 0.001, 0.01, 0.1, 1],  # Kernelkoeffizient\n",
    "    'svc__decision_function_shape': ['ovr', 'ovo']  # Multiklassenstrategie\n",
    "}\n",
    "#grid_search = GridSearchCV(pipe, param_grid, cv=5, scoring='accuracy', n_jobs=-1, verbose=2)\n",
    "#grid_search.fit(X_train, y_train)\n",
    "#print(f\"Best parameters from Grid Search: {grid_search.best_params_}\")\n",
    "#print(f\"Best cross-validation score from Grid Search: {grid_search.best_score_}\")\n",
    "\n",
    "\n",
    "# Cross Validation\n",
    "#best_model = grid_search.best_estimator_\n",
    "cv_scores = cross_val_score(pipe, X_train, y_train, cv=5, n_jobs=-1)\n",
    "print(f\"Cross-validation scores: {cv_scores}\")\n",
    "print(f\"Mean cross-validation score: {cv_scores.mean()}\")\n",
    "print(f\"Standard deviation of cross-validation score: {cv_scores.std()}\")\n",
    "\n",
    "pipe.fit(X_train, y_train)"
   ],
   "outputs": [
    {
     "name": "stdout",
     "output_type": "stream",
     "text": [
      "Cross-validation scores: [0.76821926 0.7691826  0.76797842 0.76676301 0.77235067]\n",
      "Mean cross-validation score: 0.7688987920974919\n",
      "Standard deviation of cross-validation score: 0.0018903160003905608\n"
     ]
    },
    {
     "data": {
      "text/plain": [
       "Pipeline(steps=[('svc', SVC(C=10))])"
      ],
      "text/html": [
       "<style>#sk-container-id-1 {color: black;}#sk-container-id-1 pre{padding: 0;}#sk-container-id-1 div.sk-toggleable {background-color: white;}#sk-container-id-1 label.sk-toggleable__label {cursor: pointer;display: block;width: 100%;margin-bottom: 0;padding: 0.3em;box-sizing: border-box;text-align: center;}#sk-container-id-1 label.sk-toggleable__label-arrow:before {content: \"▸\";float: left;margin-right: 0.25em;color: #696969;}#sk-container-id-1 label.sk-toggleable__label-arrow:hover:before {color: black;}#sk-container-id-1 div.sk-estimator:hover label.sk-toggleable__label-arrow:before {color: black;}#sk-container-id-1 div.sk-toggleable__content {max-height: 0;max-width: 0;overflow: hidden;text-align: left;background-color: #f0f8ff;}#sk-container-id-1 div.sk-toggleable__content pre {margin: 0.2em;color: black;border-radius: 0.25em;background-color: #f0f8ff;}#sk-container-id-1 input.sk-toggleable__control:checked~div.sk-toggleable__content {max-height: 200px;max-width: 100%;overflow: auto;}#sk-container-id-1 input.sk-toggleable__control:checked~label.sk-toggleable__label-arrow:before {content: \"▾\";}#sk-container-id-1 div.sk-estimator input.sk-toggleable__control:checked~label.sk-toggleable__label {background-color: #d4ebff;}#sk-container-id-1 div.sk-label input.sk-toggleable__control:checked~label.sk-toggleable__label {background-color: #d4ebff;}#sk-container-id-1 input.sk-hidden--visually {border: 0;clip: rect(1px 1px 1px 1px);clip: rect(1px, 1px, 1px, 1px);height: 1px;margin: -1px;overflow: hidden;padding: 0;position: absolute;width: 1px;}#sk-container-id-1 div.sk-estimator {font-family: monospace;background-color: #f0f8ff;border: 1px dotted black;border-radius: 0.25em;box-sizing: border-box;margin-bottom: 0.5em;}#sk-container-id-1 div.sk-estimator:hover {background-color: #d4ebff;}#sk-container-id-1 div.sk-parallel-item::after {content: \"\";width: 100%;border-bottom: 1px solid gray;flex-grow: 1;}#sk-container-id-1 div.sk-label:hover label.sk-toggleable__label {background-color: #d4ebff;}#sk-container-id-1 div.sk-serial::before {content: \"\";position: absolute;border-left: 1px solid gray;box-sizing: border-box;top: 0;bottom: 0;left: 50%;z-index: 0;}#sk-container-id-1 div.sk-serial {display: flex;flex-direction: column;align-items: center;background-color: white;padding-right: 0.2em;padding-left: 0.2em;position: relative;}#sk-container-id-1 div.sk-item {position: relative;z-index: 1;}#sk-container-id-1 div.sk-parallel {display: flex;align-items: stretch;justify-content: center;background-color: white;position: relative;}#sk-container-id-1 div.sk-item::before, #sk-container-id-1 div.sk-parallel-item::before {content: \"\";position: absolute;border-left: 1px solid gray;box-sizing: border-box;top: 0;bottom: 0;left: 50%;z-index: -1;}#sk-container-id-1 div.sk-parallel-item {display: flex;flex-direction: column;z-index: 1;position: relative;background-color: white;}#sk-container-id-1 div.sk-parallel-item:first-child::after {align-self: flex-end;width: 50%;}#sk-container-id-1 div.sk-parallel-item:last-child::after {align-self: flex-start;width: 50%;}#sk-container-id-1 div.sk-parallel-item:only-child::after {width: 0;}#sk-container-id-1 div.sk-dashed-wrapped {border: 1px dashed gray;margin: 0 0.4em 0.5em 0.4em;box-sizing: border-box;padding-bottom: 0.4em;background-color: white;}#sk-container-id-1 div.sk-label label {font-family: monospace;font-weight: bold;display: inline-block;line-height: 1.2em;}#sk-container-id-1 div.sk-label-container {text-align: center;}#sk-container-id-1 div.sk-container {/* jupyter's `normalize.less` sets `[hidden] { display: none; }` but bootstrap.min.css set `[hidden] { display: none !important; }` so we also need the `!important` here to be able to override the default hidden behavior on the sphinx rendered scikit-learn.org. See: https://github.com/scikit-learn/scikit-learn/issues/21755 */display: inline-block !important;position: relative;}#sk-container-id-1 div.sk-text-repr-fallback {display: none;}</style><div id=\"sk-container-id-1\" class=\"sk-top-container\"><div class=\"sk-text-repr-fallback\"><pre>Pipeline(steps=[(&#x27;svc&#x27;, SVC(C=10))])</pre><b>In a Jupyter environment, please rerun this cell to show the HTML representation or trust the notebook. <br />On GitHub, the HTML representation is unable to render, please try loading this page with nbviewer.org.</b></div><div class=\"sk-container\" hidden><div class=\"sk-item sk-dashed-wrapped\"><div class=\"sk-label-container\"><div class=\"sk-label sk-toggleable\"><input class=\"sk-toggleable__control sk-hidden--visually\" id=\"sk-estimator-id-1\" type=\"checkbox\" ><label for=\"sk-estimator-id-1\" class=\"sk-toggleable__label sk-toggleable__label-arrow\">Pipeline</label><div class=\"sk-toggleable__content\"><pre>Pipeline(steps=[(&#x27;svc&#x27;, SVC(C=10))])</pre></div></div></div><div class=\"sk-serial\"><div class=\"sk-item\"><div class=\"sk-estimator sk-toggleable\"><input class=\"sk-toggleable__control sk-hidden--visually\" id=\"sk-estimator-id-2\" type=\"checkbox\" ><label for=\"sk-estimator-id-2\" class=\"sk-toggleable__label sk-toggleable__label-arrow\">SVC</label><div class=\"sk-toggleable__content\"><pre>SVC(C=10)</pre></div></div></div></div></div></div></div>"
      ]
     },
     "execution_count": 19,
     "metadata": {},
     "output_type": "execute_result"
    }
   ],
   "execution_count": 19
  },
  {
   "metadata": {},
   "cell_type": "markdown",
   "source": "**Evaluation of the test results**",
   "id": "28298e5c1ead85a3"
  },
  {
   "cell_type": "code",
   "id": "7867921c0b278c57",
   "metadata": {
    "ExecuteTime": {
     "end_time": "2024-08-25T12:52:03.600328Z",
     "start_time": "2024-08-25T12:48:42.007365Z"
    }
   },
   "source": [
    "y_pred = pipe.predict(X_test)\n",
    "acc = accuracy_score(y_test, y_pred)\n",
    "print(f\"Accuracy: {acc * 100:.2f}%\")"
   ],
   "outputs": [
    {
     "name": "stdout",
     "output_type": "stream",
     "text": [
      "Accuracy: 77.50%\n"
     ]
    }
   ],
   "execution_count": 20
  },
  {
   "cell_type": "code",
   "id": "dd2b579adad78109",
   "metadata": {
    "ExecuteTime": {
     "end_time": "2024-08-25T12:52:03.634696Z",
     "start_time": "2024-08-25T12:52:03.601464Z"
    }
   },
   "source": "print(classification_report(y_test, y_pred,target_names=EVENTS_AASM.keys()))",
   "outputs": [
    {
     "name": "stdout",
     "output_type": "stream",
     "text": [
      "              precision    recall  f1-score   support\n",
      "\n",
      "         REM       0.87      0.83      0.85      3243\n",
      "      NREM 1       0.74      0.77      0.76      8372\n",
      "      NREM 2       0.70      0.70      0.70      6090\n",
      "      NREM 3       0.81      0.78      0.79      3968\n",
      "        Wake       0.84      0.84      0.84      4278\n",
      "\n",
      "    accuracy                           0.77     25951\n",
      "   macro avg       0.79      0.78      0.79     25951\n",
      "weighted avg       0.78      0.77      0.78     25951\n",
      "\n"
     ]
    }
   ],
   "execution_count": 21
  },
  {
   "cell_type": "code",
   "id": "52da874e3bc4214e",
   "metadata": {
    "ExecuteTime": {
     "end_time": "2024-08-25T12:52:03.892588Z",
     "start_time": "2024-08-25T12:52:03.635403Z"
    }
   },
   "source": [
    "cm = confusion_matrix(y_test, y_pred)\n",
    "disp = ConfusionMatrixDisplay(confusion_matrix=cm, display_labels=EVENTS_AASM.keys())\n",
    "fig, ax = plt.subplots(figsize=(6, 6))\n",
    "disp.plot(cmap=plt.cm.Blues,ax=ax, values_format='d', xticks_rotation=90)\n",
    "ax.grid(False)\n",
    "plt.show()"
   ],
   "outputs": [
    {
     "data": {
      "text/plain": [
       "<Figure size 600x600 with 2 Axes>"
      ],
      "image/png": "[encoded data removed]"
     },
     "metadata": {},
     "output_type": "display_data"
    }
   ],
   "execution_count": 22
  },
  {
   "metadata": {},
   "cell_type": "markdown",
   "source": "**Speichert Modell**",
   "id": "fa13dd092b704a13"
  },
  {
   "cell_type": "code",
   "id": "b2910d4698a4d3d",
   "metadata": {},
   "source": [
    "#dump(pipe, \"/RF_features_classifier.joblib\")"
   ],
   "outputs": [],
   "execution_count": null
  }
 ],
 "metadata": {
  "kernelspec": {
   "display_name": "Python 3",
   "language": "python",
   "name": "python3"
  },
  "language_info": {
   "codemirror_mode": {
    "name": "ipython",
    "version": 3
   },
   "file_extension": ".py",
   "mimetype": "text/x-python",
   "name": "python",
   "nbconvert_exporter": "python",
   "pygments_lexer": "ipython3",
   "version": "3.10.4"
  }
 },
 "nbformat": 4,
 "nbformat_minor": 5
}
