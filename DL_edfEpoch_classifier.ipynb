{
 "cells": [
  {
   "metadata": {},
   "cell_type": "markdown",
   "source": "### CNN",
   "id": "59609fc1ddacce9d"
  },
  {
   "metadata": {},
   "cell_type": "markdown",
   "source": "**Imports**",
   "id": "5ab80ebfd8d95d48"
  },
  {
   "metadata": {
    "ExecuteTime": {
     "end_time": "2024-08-26T06:27:48.180233Z",
     "start_time": "2024-08-26T06:27:48.176664Z"
    }
   },
   "cell_type": "code",
   "source": [
    "import keras\n",
    "import mne\n",
    "import numpy as np\n",
    "import os\n",
    "import re\n",
    "import glob\n",
    "from bs4 import BeautifulSoup\n",
    "from keras import Sequential\n",
    "from keras.src.callbacks import EarlyStopping, ReduceLROnPlateau\n",
    "from keras.src.layers import Conv1D, MaxPooling1D, Dropout, Flatten, Dense, BatchNormalization, LSTM, InputLayer, \\\n",
    "    GlobalAveragePooling1D, AveragePooling1D, Activation\n",
    "from keras.src.utils import to_categorical\n",
    "from matplotlib import pyplot as plt\n",
    "from mne.preprocessing import ICA\n",
    "from sklearn.model_selection import train_test_split\n",
    "from tensorflow.keras.regularizers import l2\n",
    "from sklearn.metrics import classification_report, accuracy_score, ConfusionMatrixDisplay, confusion_matrix"
   ],
   "id": "166c8d9c242cbfd7",
   "outputs": [],
   "execution_count": 30
  },
  {
   "metadata": {},
   "cell_type": "markdown",
   "source": "**Ordner mit edf-Dateien suchen und vorbereiten**",
   "id": "14683d1181065512"
  },
  {
   "metadata": {
    "ExecuteTime": {
     "end_time": "2024-08-26T06:27:48.209727Z",
     "start_time": "2024-08-26T06:27:48.207187Z"
    }
   },
   "cell_type": "code",
   "source": [
    "def find_edf(directory):\n",
    "    \"\"\"\n",
    "    Function to find the .edf files with ending [...] in a directory. \n",
    "    \"\"\"\n",
    "    paths = []\n",
    "    pattern = r\".*\\[\\d+\\].edf\"\n",
    "    for filename in os.listdir(directory):\n",
    "        if re.match(pattern, filename):\n",
    "            filepath = os.path.join(directory, filename)\n",
    "            paths.append(filepath)\n",
    "    \n",
    "    paths.sort()\n",
    "    return paths"
   ],
   "id": "bcf71e424a4e99c5",
   "outputs": [],
   "execution_count": 31
  },
  {
   "metadata": {},
   "cell_type": "markdown",
   "source": "**EDF-Dateien mit gewünschter Konfig. auslesen**",
   "id": "b615abdef0cac8ae"
  },
  {
   "metadata": {
    "ExecuteTime": {
     "end_time": "2024-08-26T06:27:48.231703Z",
     "start_time": "2024-08-26T06:27:48.228277Z"
    }
   },
   "cell_type": "code",
   "source": [
    "def files_preparation(path):\n",
    "    \"\"\"\n",
    "    Read .edf File and choose channels\n",
    "    \"\"\"\n",
    "    \n",
    "    include = [\n",
    "        'EEG C4-A1',\n",
    "        #'EEG C3-A2',\n",
    "        #'EEG A1-A2'\n",
    "        #'EOG ROC-A1',\n",
    "        #'EOG LOC-A2'\n",
    "    ]\n",
    "    \n",
    "    raw = mne.io.read_raw_edf(path, preload=True, verbose='error', include=include)\n",
    "\n",
    "    raw.set_channel_types(\n",
    "        mapping={\n",
    "        'EEG C4-A1': 'eeg',\n",
    "        #'EEG C3-A2': 'eeg',\n",
    "        #'EEG A1-A2': 'eeg',\n",
    "        #'EOG ROC-A1': 'eog',\n",
    "        #'EOG LOC-A2': 'eog',\n",
    "        #'EMG Chin': 'emg',\n",
    "        #'ECG I': 'ecg',\n",
    "        #'ECG II': 'ecg',\n",
    "        }\n",
    "    )\n",
    "    \n",
    "    return raw"
   ],
   "id": "17f3986dd45cf34c",
   "outputs": [],
   "execution_count": 32
  },
  {
   "metadata": {},
   "cell_type": "markdown",
   "source": "**Labels aus der dazugehörigen .rml-Datei auslesen**",
   "id": "73b7780898b4818a"
  },
  {
   "metadata": {
    "ExecuteTime": {
     "end_time": "2024-08-26T06:27:48.246597Z",
     "start_time": "2024-08-26T06:27:48.242952Z"
    }
   },
   "cell_type": "code",
   "source": [
    "def rml_to_annotations(directory, raw_data):\n",
    "    \"\"\"\n",
    "    Reads .rml file and converts labels to for MNE.Epochs useable onset, describtion, duration.\n",
    "    Where onset is the start of an Epoch, description is the label of the Epoch and duration is the duration of the Epoch.\n",
    "    \"\"\"\n",
    "    \n",
    "    os.chdir(directory)\n",
    "    rml = None\n",
    "    for file in glob.glob(\"*.rml\"):\n",
    "        rml = file\n",
    "        break\n",
    "    with open(rml, 'r') as f:\n",
    "        rml_data = f.read()\n",
    "    user_staging = BeautifulSoup(rml_data, 'xml').find(\"UserStaging\").find(\"NeuroRKStaging\")\n",
    "    start_time = []\n",
    "    sleep_stage = []\n",
    "    for stage in user_staging.find_all('Stage'):\n",
    "        start_time.append(int(stage['Start']))\n",
    "        sleep_stage.append(stage['Type'])\n",
    "        \n",
    "    onset = np.array(start_time)\n",
    "    description = np.array(sleep_stage)\n",
    "    raw_duration = raw_data.times[-1] - raw_data.times[0]\n",
    "    duration = np.diff(np.append(onset, raw_duration))\n",
    "    return onset, description, duration"
   ],
   "id": "942b67d4b844ff61",
   "outputs": [],
   "execution_count": 33
  },
  {
   "metadata": {},
   "cell_type": "markdown",
   "source": "**Erstellt 30 Sekunden Epochen aus allen EDF-Dateien und den Labels und Preprocesseses die rohen Dateien**",
   "id": "fc16a8de8f60887"
  },
  {
   "metadata": {
    "ExecuteTime": {
     "end_time": "2024-08-26T06:27:48.253820Z",
     "start_time": "2024-08-26T06:27:48.247952Z"
    }
   },
   "cell_type": "code",
   "source": [
    "tmax = 30 - 1 / 100 # tmax describes length of an Epoch\n",
    "\n",
    "# Sleep stages acording to AASM\n",
    "EVENTS_AASM = {\n",
    "    \"REM\": 1,\n",
    "    \"NREM 1\": 2,\n",
    "    \"NREM 2\": 3,\n",
    "    \"NREM 3\": 4,\n",
    "    \"Wake\": 5,\n",
    "}\n",
    "\n",
    "\n",
    "def data_preparation(directory):\n",
    "    \"\"\"\n",
    "    Function converts the raw edf files to MNE.Epochs and returns them.\n",
    "    \"\"\"\n",
    "    \n",
    "    print(\"Data for Directory:  \", directory)\n",
    "    paths = find_edf(directory)\n",
    "    data_list = []\n",
    "    for path in paths:\n",
    "        raw = files_preparation(path)\n",
    "        data_list.append(raw)\n",
    "    \n",
    "    raw_data = mne.concatenate_raws(data_list)\n",
    "        \n",
    "    \n",
    "    #----------------- Preprocessing ---------------------\n",
    "    # ---> Butterworth Filter 0.5 - 49.5 Hz\n",
    "    raw_data = raw_data.filter(\n",
    "        picks='all',\n",
    "        l_freq=0.5,\n",
    "        h_freq=49.5,\n",
    "        method='iir',\n",
    "        iir_params=dict(order=10, ftype='butter'),\n",
    "        verbose='error'\n",
    "    ) \n",
    "    \n",
    "    #picks = mne.pick_types(raw_data.info, eeg=True, eog=True, ecg=False)\n",
    "    \n",
    "    # ---> PCA (Principal Component Analysis)\n",
    "    # get_data() -> transpose -> fit_transform() -> transpose back -> make new raw or override old\n",
    "    #pca_daten = raw_data.get_data(picks=picks)\n",
    "    #pca = PCA()\n",
    "    #pca_daten = pca.fit_transform(pca_daten.T).T\n",
    "    \n",
    "    \n",
    "    # ---> ICA (Independent Component Analysis)\n",
    "    #ica = ICA(verbose='error')\n",
    "    #ica.fit(raw_data, picks=picks, verbose='error')\n",
    "    #-----------------------------------------------------\n",
    "\n",
    "    \n",
    "    onset, description, duration = rml_to_annotations(directory, raw_data)\n",
    "    annotations = mne.Annotations(onset=onset, description=description, duration=duration)\n",
    "    annotations.crop(\n",
    "        annotations[1]['onset'] - 30 * 20, # 30 * 60 = 1200 Ersten 10 Minuten entfernen\n",
    "        annotations[-2]['onset'] + 30 * 20 # Letzten 10 Minuten entfernen\n",
    "    )\n",
    "    raw_data.set_annotations(annotations)\n",
    "        \n",
    "    events, _ = mne.events_from_annotations(\n",
    "        raw_data, \n",
    "        chunk_duration=30,\n",
    "        verbose='error'\n",
    "    )\n",
    "    \n",
    "    epochs = mne.Epochs(\n",
    "        raw=raw_data,\n",
    "        events=events,\n",
    "        event_id=EVENTS_AASM,\n",
    "        tmin=0.0,\n",
    "        baseline=None,\n",
    "        tmax=tmax,\n",
    "        verbose='error',\n",
    "        on_missing='warn',\n",
    "        preload=True,\n",
    "    )\n",
    "    epochs.resample(sfreq=100, verbose='error')\n",
    "    \n",
    "    labels = epochs.events[:, 2]\n",
    "    \n",
    "    return epochs, labels"
   ],
   "id": "236f1aaa002964b1",
   "outputs": [],
   "execution_count": 34
  },
  {
   "metadata": {},
   "cell_type": "markdown",
   "source": [
    "~~Es werden hier keine Feature extrahiert~~\n",
    "\n",
    "**Geht durch alle gefundenen Ordner und gibt fertige Epochen zurück**"
   ],
   "id": "af032dd6cd119aa"
  },
  {
   "metadata": {
    "ExecuteTime": {
     "end_time": "2024-08-26T06:30:22.935798Z",
     "start_time": "2024-08-26T06:27:48.293583Z"
    }
   },
   "cell_type": "code",
   "source": [
    "def list_subdirectories(directory):\n",
    "    \"\"\"Lists all subdirectories in the given directory.\"\"\"\n",
    "    return [os.path.join(directory, sub_dir) for sub_dir in os.listdir(directory) if os.path.isdir(os.path.join(directory, sub_dir))]\n",
    "\n",
    "def process_all_folders(main_directory):\n",
    "    \"\"\"Iterates over all subdirectories in the main directory and prepares data.\"\"\"\n",
    "    all_epochs = []\n",
    "    all_labels = []\n",
    "    \n",
    "    subdirectories = list_subdirectories(main_directory)\n",
    "    \n",
    "    for sub_dir in subdirectories:\n",
    "        epochs, labels = data_preparation(sub_dir)\n",
    "        all_epochs.append(epochs)\n",
    "        all_labels.append(labels)\n",
    "    \n",
    "    combined_epochs = mne.concatenate_epochs(all_epochs, verbose='error')\n",
    "    combined_labels = np.concatenate(all_labels, axis=0) if all_labels else None\n",
    "    \n",
    "    return combined_epochs, combined_labels\n",
    "\n",
    "\n",
    "main_directory = '/Volumes/Jonas_SSD/test'\n",
    "X, y = process_all_folders(main_directory)"
   ],
   "id": "d54f173235c08c82",
   "outputs": [
    {
     "name": "stdout",
     "output_type": "stream",
     "text": [
      "Data for Directory:   /Volumes/Jonas_SSD/test/00000021-A5BS00755\n",
      "Data for Directory:   /Volumes/Jonas_SSD/test/00000702-A5BS00755\n",
      "Data for Directory:   /Volumes/Jonas_SSD/test/00000042-A5BS00755\n",
      "Data for Directory:   /Volumes/Jonas_SSD/test/00000775-A5BS00755\n",
      "Data for Directory:   /Volumes/Jonas_SSD/test/00000035-A5BS00755\n",
      "Data for Directory:   /Volumes/Jonas_SSD/test/00000398-A5BS00755\n",
      "Data for Directory:   /Volumes/Jonas_SSD/test/00000062-A5BS00755\n",
      "Data for Directory:   /Volumes/Jonas_SSD/test/00000706-A5BS00755\n",
      "Data for Directory:   /Volumes/Jonas_SSD/test/00000043-A5BS00755\n",
      "Data for Directory:   /Volumes/Jonas_SSD/test/00000055-A5BS00755\n",
      "Data for Directory:   /Volumes/Jonas_SSD/test/00000708-A5BS00755\n",
      "Data for Directory:   /Volumes/Jonas_SSD/test/00000060-A5BS00755\n",
      "Data for Directory:   /Volumes/Jonas_SSD/test/00000077-A5BS00755\n",
      "Data for Directory:   /Volumes/Jonas_SSD/test/00000709-A5BS00755\n",
      "Data for Directory:   /Volumes/Jonas_SSD/test/00000070-A5BS00755\n",
      "Data for Directory:   /Volumes/Jonas_SSD/test/00000087-A5BS00755\n",
      "Data for Directory:   /Volumes/Jonas_SSD/test/00000710-A5BS00755\n",
      "Data for Directory:   /Volumes/Jonas_SSD/test/00000079-A5BS00755\n",
      "Data for Directory:   /Volumes/Jonas_SSD/test/00000080-A5BS00755\n",
      "Data for Directory:   /Volumes/Jonas_SSD/test/00000719-A5BS00755\n",
      "Data for Directory:   /Volumes/Jonas_SSD/test/00000086-A5BS00755\n",
      "Data for Directory:   /Volumes/Jonas_SSD/test/00000089-A5BS00755\n",
      "Data for Directory:   /Volumes/Jonas_SSD/test/00000726-A5BS00755\n",
      "Data for Directory:   /Volumes/Jonas_SSD/test/00000091-A5BS00755\n",
      "Data for Directory:   /Volumes/Jonas_SSD/test/00000094-A5BS00755\n",
      "Data for Directory:   /Volumes/Jonas_SSD/test/00000727-A5BS00755\n",
      "Data for Directory:   /Volumes/Jonas_SSD/test/00000106-A5BS00755\n",
      "Data for Directory:   /Volumes/Jonas_SSD/test/00000107-A5BS00755\n",
      "Data for Directory:   /Volumes/Jonas_SSD/test/00000728-A5BS00755\n",
      "Data for Directory:   /Volumes/Jonas_SSD/test/00000108-A5BS00755\n",
      "Data for Directory:   /Volumes/Jonas_SSD/test/00000110-A5BS00755\n",
      "Data for Directory:   /Volumes/Jonas_SSD/test/00000731-A5BS00755\n",
      "Data for Directory:   /Volumes/Jonas_SSD/test/00000111-A5BS00755\n",
      "Data for Directory:   /Volumes/Jonas_SSD/test/00000113-A5BS00755\n",
      "Data for Directory:   /Volumes/Jonas_SSD/test/00000736-A5BS00755\n",
      "Data for Directory:   /Volumes/Jonas_SSD/test/00000114-A5BS00755\n",
      "Data for Directory:   /Volumes/Jonas_SSD/test/00000115-A5BS00755\n",
      "Data for Directory:   /Volumes/Jonas_SSD/test/00000743-A5BS00755\n",
      "Data for Directory:   /Volumes/Jonas_SSD/test/00000116-A5BS00755\n",
      "Data for Directory:   /Volumes/Jonas_SSD/test/00000117-A5BS00755\n",
      "Data for Directory:   /Volumes/Jonas_SSD/test/00000744-A5BS00755\n",
      "Data for Directory:   /Volumes/Jonas_SSD/test/00000123-A5BS00755\n",
      "Data for Directory:   /Volumes/Jonas_SSD/test/00000124-A5BS00755\n",
      "Data for Directory:   /Volumes/Jonas_SSD/test/00000751-A5BS00755\n",
      "Data for Directory:   /Volumes/Jonas_SSD/test/00000126-A5BS00755\n",
      "Data for Directory:   /Volumes/Jonas_SSD/test/00000127-A5BS00755\n",
      "Data for Directory:   /Volumes/Jonas_SSD/test/00000752-A5BS00755\n",
      "Data for Directory:   /Volumes/Jonas_SSD/test/00000133-A5BS00755\n",
      "Data for Directory:   /Volumes/Jonas_SSD/test/00000136-A5BS00755\n",
      "Data for Directory:   /Volumes/Jonas_SSD/test/00000753-A5BS00755\n",
      "Data for Directory:   /Volumes/Jonas_SSD/test/00000137-A5BS00755\n",
      "Data for Directory:   /Volumes/Jonas_SSD/test/00000139-A5BS00755\n",
      "Data for Directory:   /Volumes/Jonas_SSD/test/00000755-A5BS00755\n",
      "Data for Directory:   /Volumes/Jonas_SSD/test/00000145-A5BS00755\n",
      "Data for Directory:   /Volumes/Jonas_SSD/test/00000147-A5BS00755\n",
      "Data for Directory:   /Volumes/Jonas_SSD/test/00000759-A5BS00755\n",
      "Data for Directory:   /Volumes/Jonas_SSD/test/00000152-A5BS00755\n",
      "Data for Directory:   /Volumes/Jonas_SSD/test/00000153-A5BS00755\n",
      "Data for Directory:   /Volumes/Jonas_SSD/test/00000767-A5BS00755\n",
      "Data for Directory:   /Volumes/Jonas_SSD/test/00000160-A5BS00755\n",
      "Data for Directory:   /Volumes/Jonas_SSD/test/00000161-A5BS00755\n",
      "Data for Directory:   /Volumes/Jonas_SSD/test/00000769-A5BS00755\n",
      "Data for Directory:   /Volumes/Jonas_SSD/test/00000169-A5BS00755\n",
      "Data for Directory:   /Volumes/Jonas_SSD/test/00000180-A5BS00755\n",
      "Data for Directory:   /Volumes/Jonas_SSD/test/00000770-A5BS00755\n",
      "Data for Directory:   /Volumes/Jonas_SSD/test/00000181-A5BS00755\n",
      "Data for Directory:   /Volumes/Jonas_SSD/test/00000193-A5BS00755\n",
      "Data for Directory:   /Volumes/Jonas_SSD/test/00000772-A5BS00755\n",
      "Data for Directory:   /Volumes/Jonas_SSD/test/00000199-A5BS00755\n",
      "Data for Directory:   /Volumes/Jonas_SSD/test/00000204-A5BS00755\n",
      "Data for Directory:   /Volumes/Jonas_SSD/test/00000774-A5BS00755\n",
      "Data for Directory:   /Volumes/Jonas_SSD/test/00000206-A5BS00755\n",
      "Data for Directory:   /Volumes/Jonas_SSD/test/00000207-A5BS00755\n",
      "Data for Directory:   /Volumes/Jonas_SSD/test/00000211-A5BS00755\n",
      "Data for Directory:   /Volumes/Jonas_SSD/test/00000213-A5BS00755\n",
      "Data for Directory:   /Volumes/Jonas_SSD/test/00000216-A5BS00755\n",
      "Data for Directory:   /Volumes/Jonas_SSD/test/00000223-A5BS00755\n",
      "Data for Directory:   /Volumes/Jonas_SSD/test/00000231-A5BS00755\n",
      "Data for Directory:   /Volumes/Jonas_SSD/test/00000233-A5BS00755\n",
      "Data for Directory:   /Volumes/Jonas_SSD/test/00000242-A5BS00755\n",
      "Data for Directory:   /Volumes/Jonas_SSD/test/00000243-A5BS00755\n",
      "Data for Directory:   /Volumes/Jonas_SSD/test/00000245-A5BS00755\n",
      "Data for Directory:   /Volumes/Jonas_SSD/test/00000246-A5BS00755\n",
      "Data for Directory:   /Volumes/Jonas_SSD/test/00000248-A5BS00755\n",
      "Data for Directory:   /Volumes/Jonas_SSD/test/00000263-A5BS00755\n",
      "Data for Directory:   /Volumes/Jonas_SSD/test/00000273-A5BS00755\n",
      "Data for Directory:   /Volumes/Jonas_SSD/test/00000283-A5BS00755\n",
      "Data for Directory:   /Volumes/Jonas_SSD/test/00000284-A5BS00755\n",
      "Data for Directory:   /Volumes/Jonas_SSD/test/00000285-A5BS00755\n",
      "Data for Directory:   /Volumes/Jonas_SSD/test/00000287-A5BS00755\n",
      "Data for Directory:   /Volumes/Jonas_SSD/test/00000293-A5BS00755\n",
      "Data for Directory:   /Volumes/Jonas_SSD/test/00000297-A5BS00755\n",
      "Data for Directory:   /Volumes/Jonas_SSD/test/00000299-A5BS00755\n",
      "Data for Directory:   /Volumes/Jonas_SSD/test/00000300-A5BS00755\n",
      "Data for Directory:   /Volumes/Jonas_SSD/test/00000319-A5BS00755\n",
      "Data for Directory:   /Volumes/Jonas_SSD/test/00000321-A5BS00755\n",
      "Data for Directory:   /Volumes/Jonas_SSD/test/00000322-A5BS00755\n",
      "Data for Directory:   /Volumes/Jonas_SSD/test/00000330-A5BS00755\n",
      "Data for Directory:   /Volumes/Jonas_SSD/test/00000331-A5BS00755\n",
      "Data for Directory:   /Volumes/Jonas_SSD/test/00000342-A5BS00755\n",
      "Data for Directory:   /Volumes/Jonas_SSD/test/00000351-A5BS00755\n",
      "Data for Directory:   /Volumes/Jonas_SSD/test/00000352-A5BS00755\n",
      "Data for Directory:   /Volumes/Jonas_SSD/test/00000357-A5BS00755\n",
      "Data for Directory:   /Volumes/Jonas_SSD/test/00000359-A5BS00755\n",
      "Data for Directory:   /Volumes/Jonas_SSD/test/00000368-A5BS00755\n",
      "Data for Directory:   /Volumes/Jonas_SSD/test/00000369-A5BS00755\n",
      "Data for Directory:   /Volumes/Jonas_SSD/test/00000378-A5BS00755\n",
      "Data for Directory:   /Volumes/Jonas_SSD/test/00000380-A5BS00755\n",
      "Data for Directory:   /Volumes/Jonas_SSD/test/00000384-A5BS00755\n",
      "Data for Directory:   /Volumes/Jonas_SSD/test/00000385-A5BS00755\n",
      "Data for Directory:   /Volumes/Jonas_SSD/test/00000386-A5BS00755\n",
      "Data for Directory:   /Volumes/Jonas_SSD/test/00000395-A5BS00755\n",
      "Data for Directory:   /Volumes/Jonas_SSD/test/00000396-A5BS00755\n",
      "Data for Directory:   /Volumes/Jonas_SSD/test/00000403-A5BS00755\n",
      "Data for Directory:   /Volumes/Jonas_SSD/test/00000416-A5BS00755\n",
      "Data for Directory:   /Volumes/Jonas_SSD/test/00000423-A5BS00755\n",
      "Data for Directory:   /Volumes/Jonas_SSD/test/00000424-A5BS00755\n",
      "Data for Directory:   /Volumes/Jonas_SSD/test/00000425-A5BS00755\n",
      "Data for Directory:   /Volumes/Jonas_SSD/test/00000427-A5BS00755\n",
      "Data for Directory:   /Volumes/Jonas_SSD/test/00000431-A5BS00755\n",
      "Data for Directory:   /Volumes/Jonas_SSD/test/00000432-A5BS00755\n",
      "Data for Directory:   /Volumes/Jonas_SSD/test/00000441-A5BS00755\n",
      "Data for Directory:   /Volumes/Jonas_SSD/test/00000448-A5BS00755\n",
      "Data for Directory:   /Volumes/Jonas_SSD/test/00000458-A5BS00755\n",
      "Data for Directory:   /Volumes/Jonas_SSD/test/00000466-A5BS00755\n",
      "Data for Directory:   /Volumes/Jonas_SSD/test/00000480-A5BS00755\n",
      "Data for Directory:   /Volumes/Jonas_SSD/test/00000493-A5BS00755\n",
      "Data for Directory:   /Volumes/Jonas_SSD/test/00000494-A5BS00755\n",
      "Data for Directory:   /Volumes/Jonas_SSD/test/00000496-A5BS00755\n",
      "Data for Directory:   /Volumes/Jonas_SSD/test/00000500-A5BS00755\n",
      "Data for Directory:   /Volumes/Jonas_SSD/test/00000501-A5BS00755\n",
      "Data for Directory:   /Volumes/Jonas_SSD/test/00000509-A5BS00755\n",
      "Data for Directory:   /Volumes/Jonas_SSD/test/00000512-A5BS00755\n",
      "Data for Directory:   /Volumes/Jonas_SSD/test/00000515-A5BS00755\n",
      "Data for Directory:   /Volumes/Jonas_SSD/test/00000516-A5BS00755\n",
      "Data for Directory:   /Volumes/Jonas_SSD/test/00000517-A5BS00755\n",
      "Data for Directory:   /Volumes/Jonas_SSD/test/00000519-A5BS00755\n",
      "Data for Directory:   /Volumes/Jonas_SSD/test/00000523-A5BS00755\n",
      "Data for Directory:   /Volumes/Jonas_SSD/test/00000527-A5BS00755\n",
      "Data for Directory:   /Volumes/Jonas_SSD/test/00000529-A5BS00755\n",
      "Data for Directory:   /Volumes/Jonas_SSD/test/00000531-A5BS00755\n",
      "Data for Directory:   /Volumes/Jonas_SSD/test/00000534-A5BS00755\n",
      "Data for Directory:   /Volumes/Jonas_SSD/test/00000536-A5BS00755\n",
      "Data for Directory:   /Volumes/Jonas_SSD/test/00000538-A5BS00755\n",
      "Data for Directory:   /Volumes/Jonas_SSD/test/00000542-A5BS00755\n",
      "Data for Directory:   /Volumes/Jonas_SSD/test/00000543-A5BS00755\n",
      "Data for Directory:   /Volumes/Jonas_SSD/test/00000544-A5BS00755\n",
      "Data for Directory:   /Volumes/Jonas_SSD/test/00000546-A5BS00755\n",
      "Data for Directory:   /Volumes/Jonas_SSD/test/00000548-A5BS00755\n",
      "Data for Directory:   /Volumes/Jonas_SSD/test/00000550-A5BS00755\n",
      "Data for Directory:   /Volumes/Jonas_SSD/test/00000551-A5BS00755\n",
      "Data for Directory:   /Volumes/Jonas_SSD/test/00000552-A5BS00755\n",
      "Data for Directory:   /Volumes/Jonas_SSD/test/00000553-A5BS00755\n",
      "Data for Directory:   /Volumes/Jonas_SSD/test/00000561-A5BS00755\n",
      "Data for Directory:   /Volumes/Jonas_SSD/test/00000562-A5BS00755\n",
      "Data for Directory:   /Volumes/Jonas_SSD/test/00000574-A5BS00755\n",
      "Data for Directory:   /Volumes/Jonas_SSD/test/00000576-A5BS00755\n",
      "Data for Directory:   /Volumes/Jonas_SSD/test/00000578-A5BS00755\n",
      "Data for Directory:   /Volumes/Jonas_SSD/test/00000586-A5BS00755\n",
      "Data for Directory:   /Volumes/Jonas_SSD/test/00000597-A5BS00755\n",
      "Data for Directory:   /Volumes/Jonas_SSD/test/00000605-A5BS00755\n",
      "Data for Directory:   /Volumes/Jonas_SSD/test/00000614-A5BS00755\n",
      "Data for Directory:   /Volumes/Jonas_SSD/test/00000645-A5BS00755\n",
      "Data for Directory:   /Volumes/Jonas_SSD/test/00000649-A5BS00755\n",
      "Data for Directory:   /Volumes/Jonas_SSD/test/00000657-A5BS00755\n",
      "Data for Directory:   /Volumes/Jonas_SSD/test/00000658-A5BS00755\n",
      "Data for Directory:   /Volumes/Jonas_SSD/test/00000666-A5BS00755\n",
      "Data for Directory:   /Volumes/Jonas_SSD/test/00000674-A5BS00755\n",
      "Data for Directory:   /Volumes/Jonas_SSD/test/00000676-A5BS00755\n",
      "Data for Directory:   /Volumes/Jonas_SSD/test/00000685-A5BS00755\n",
      "Data for Directory:   /Volumes/Jonas_SSD/test/00000686-A5BS00755\n",
      "Data for Directory:   /Volumes/Jonas_SSD/test/00000687-A5BS00755\n"
     ]
    }
   ],
   "execution_count": 35
  },
  {
   "metadata": {
    "ExecuteTime": {
     "end_time": "2024-08-26T06:30:22.941540Z",
     "start_time": "2024-08-26T06:30:22.937542Z"
    }
   },
   "cell_type": "code",
   "source": "X.get_data(verbose='error').shape, y.shape",
   "id": "98f001d628a902a2",
   "outputs": [
    {
     "data": {
      "text/plain": [
       "((129754, 1, 3000), (129754,))"
      ]
     },
     "execution_count": 36,
     "metadata": {},
     "output_type": "execute_result"
    }
   ],
   "execution_count": 36
  },
  {
   "metadata": {
    "ExecuteTime": {
     "end_time": "2024-08-26T06:30:22.945991Z",
     "start_time": "2024-08-26T06:30:22.942372Z"
    }
   },
   "cell_type": "code",
   "source": [
    "# Example before normalization\n",
    "X = X.get_data(verbose='error')\n",
    "X[25, 0, :15]"
   ],
   "id": "cc30f4d0296d0ba0",
   "outputs": [
    {
     "data": {
      "text/plain": [
       "array([ 3.90447318e-06, -3.23987685e-06, -1.15264144e-05, -7.52694989e-06,\n",
       "       -8.77475472e-06, -5.36156945e-06,  2.77552056e-06,  9.12160145e-06,\n",
       "        3.76980608e-06,  1.45671535e-07, -1.68609282e-06, -4.13663167e-06,\n",
       "       -4.20777865e-06, -5.48460450e-06,  2.65659406e-06])"
      ]
     },
     "execution_count": 37,
     "metadata": {},
     "output_type": "execute_result"
    }
   ],
   "execution_count": 37
  },
  {
   "metadata": {
    "ExecuteTime": {
     "end_time": "2024-08-26T06:30:27.115820Z",
     "start_time": "2024-08-26T06:30:22.947233Z"
    }
   },
   "cell_type": "code",
   "source": [
    "# Normalization\n",
    "mean = np.mean(X, axis=2, keepdims=True)\n",
    "std = np.std(X, axis=2, keepdims=True)\n",
    "X = (X - mean) / std\n",
    "X.shape"
   ],
   "id": "5ef93625a261fe31",
   "outputs": [
    {
     "data": {
      "text/plain": [
       "(129754, 1, 3000)"
      ]
     },
     "execution_count": 38,
     "metadata": {},
     "output_type": "execute_result"
    }
   ],
   "execution_count": 38
  },
  {
   "metadata": {
    "ExecuteTime": {
     "end_time": "2024-08-26T06:30:27.121296Z",
     "start_time": "2024-08-26T06:30:27.117326Z"
    }
   },
   "cell_type": "code",
   "source": [
    "# Same example after normalization\n",
    "X[25, 0, :15]"
   ],
   "id": "a383f8ba677fc886",
   "outputs": [
    {
     "data": {
      "text/plain": [
       "array([ 0.4965915 , -0.41038773, -1.4623683 , -0.95463405, -1.11304357,\n",
       "       -0.67973779,  0.35327034,  1.15890886,  0.47949544,  0.01940953,\n",
       "       -0.21313397, -0.52423125, -0.5332634 , -0.69535716,  0.33817255])"
      ]
     },
     "execution_count": 39,
     "metadata": {},
     "output_type": "execute_result"
    }
   ],
   "execution_count": 39
  },
  {
   "metadata": {
    "ExecuteTime": {
     "end_time": "2024-08-26T06:30:27.124311Z",
     "start_time": "2024-08-26T06:30:27.122054Z"
    }
   },
   "cell_type": "code",
   "source": [
    "# For Input_Layer\n",
    "n_samples_per_epoch = X.shape[2]\n",
    "n_channels = X.shape[1]"
   ],
   "id": "f640b3614d2721de",
   "outputs": [],
   "execution_count": 40
  },
  {
   "metadata": {},
   "cell_type": "markdown",
   "source": "**One-Hot Encoding**",
   "id": "1ae6ec2ce2089ff"
  },
  {
   "metadata": {
    "ExecuteTime": {
     "end_time": "2024-08-26T06:30:27.131104Z",
     "start_time": "2024-08-26T06:30:27.125072Z"
    }
   },
   "cell_type": "code",
   "source": [
    "print(f\"Alte Labelnummern: {np.unique(y)}\")\n",
    "EVENTS_AASM_NEU = {\n",
    "    \"REM\": 0,\n",
    "    \"NREM 1\": 1,\n",
    "    \"NREM 2\": 2,\n",
    "    \"NREM 3\": 3,\n",
    "    \"Wake\": 4,\n",
    "}\n",
    "\n",
    "y = y - 1\n",
    "print(f\"Neue Labelnummern: {np.unique(y)}\")\n",
    "y = to_categorical(y)"
   ],
   "id": "d38a34e6975631f3",
   "outputs": [
    {
     "name": "stdout",
     "output_type": "stream",
     "text": [
      "Alte Labelnummern: [1 2 3 4 5]\n",
      "Neue Labelnummern: [0 1 2 3 4]\n"
     ]
    }
   ],
   "execution_count": 41
  },
  {
   "metadata": {
    "ExecuteTime": {
     "end_time": "2024-08-26T06:30:27.134721Z",
     "start_time": "2024-08-26T06:30:27.131921Z"
    }
   },
   "cell_type": "code",
   "source": [
    "# Reshape the data to match the expected input for 1D CNN: (n_samples, n_samples_per_epoch, n_channels)\n",
    "print(\"Original data shape:\", X.shape)\n",
    "X = np.transpose(X, (0, 2, 1))\n",
    "print(\"Reshaped data shape:\", X.shape) "
   ],
   "id": "d411d7bca7130ae8",
   "outputs": [
    {
     "name": "stdout",
     "output_type": "stream",
     "text": [
      "Original data shape: (129754, 1, 3000)\n",
      "Reshaped data shape: (129754, 3000, 1)\n"
     ]
    }
   ],
   "execution_count": 42
  },
  {
   "metadata": {},
   "cell_type": "markdown",
   "source": "**Splitting data in train and test set**",
   "id": "89f4bff1ddd02f91"
  },
  {
   "metadata": {
    "ExecuteTime": {
     "end_time": "2024-08-26T06:30:28.167480Z",
     "start_time": "2024-08-26T06:30:27.135874Z"
    }
   },
   "cell_type": "code",
   "source": "X_train, X_test, y_train, y_test = train_test_split(X, y, test_size=0.2, random_state=42)",
   "id": "7a817ef9bfb1bd0c",
   "outputs": [],
   "execution_count": 43
  },
  {
   "metadata": {},
   "cell_type": "markdown",
   "source": "**Setting parameters for early stopping and learning rate reduction**",
   "id": "2fac9f275cd453f0"
  },
  {
   "metadata": {
    "ExecuteTime": {
     "end_time": "2024-08-26T06:30:29.048996Z",
     "start_time": "2024-08-26T06:30:28.175310Z"
    }
   },
   "cell_type": "code",
   "source": [
    "reduce_lr = ReduceLROnPlateau(monitor='val_loss', factor=0.5, patience=3, min_lr=0.00001, verbose=1)\n",
    "early_stopping = EarlyStopping(monitor='val_loss', patience=4, verbose=1, restore_best_weights=True)"
   ],
   "id": "fad3e6fa32f6e88e",
   "outputs": [],
   "execution_count": 44
  },
  {
   "metadata": {},
   "cell_type": "markdown",
   "source": "**Train Models**",
   "id": "4836f4dfd924c4c6"
  },
  {
   "metadata": {},
   "cell_type": "markdown",
   "source": [
    "**1D-CNN Model Architektur**\n",
    "\n",
    "[A Deep Learning Model for Automated Sleep Stages Classification Using PSG Signals](https://www.mdpi.com/1660-4601/16/4/599)\n"
   ],
   "id": "bb7a535e8a78f5a9"
  },
  {
   "metadata": {
    "ExecuteTime": {
     "end_time": "2024-08-26T11:54:58.784530Z",
     "start_time": "2024-08-26T06:30:29.056523Z"
    }
   },
   "cell_type": "code",
   "source": [
    "model = Sequential()\n",
    "model.add(Conv1D(\n",
    "    filters=64,\n",
    "    kernel_size=5,\n",
    "    activation='relu',\n",
    "    strides=3,\n",
    "    input_shape=(n_samples_per_epoch, n_channels)\n",
    "))\n",
    "model.add(Conv1D(filters=128, kernel_size=5,strides=2, activation='relu'))\n",
    "model.add(MaxPooling1D(pool_size=2, strides=2))\n",
    "model.add(Dropout(rate=0.2))\n",
    "\n",
    "model.add(Conv1D(filters=128, kernel_size=13, activation='relu'))\n",
    "model.add(Dropout(rate=0.3))\n",
    "model.add(Conv1D(filters=256, kernel_size=7, activation='relu' ))\n",
    "model.add(MaxPooling1D(pool_size=2, strides=2))\n",
    "\n",
    "model.add(Dropout(rate=0.2))\n",
    "\n",
    "model.add(Conv1D(filters=256, kernel_size=7, activation='relu'))\n",
    "model.add(Dropout(rate=0.3))\n",
    "model.add(Conv1D(filters=64, kernel_size=4, activation='relu'))\n",
    "model.add(MaxPooling1D(pool_size=2, strides=2))\n",
    "\n",
    "model.add(Dropout(rate=0.2))\n",
    "\n",
    "model.add(Conv1D(filters=32, kernel_size=3, activation='relu'))\n",
    "model.add(Conv1D(filters=64, kernel_size=4, activation='relu'))\n",
    "model.add(MaxPooling1D(pool_size=2, strides=2))\n",
    "\n",
    "model.add(Dropout(rate=0.2))\n",
    "\n",
    "model.add(Conv1D(filters=8, kernel_size=5, activation='relu'))\n",
    "model.add(Conv1D(filters=8, kernel_size=2, activation='relu'))\n",
    "model.add(MaxPooling1D(pool_size=2, strides=2))\n",
    "\n",
    "model.add(Flatten())\n",
    "\n",
    "model.add(Dense(units=64, activation='relu'))\n",
    "model.add(Dense(units=5, activation='softmax'))\n",
    "\n",
    "model.compile(optimizer='adam', loss='categorical_crossentropy', metrics=['accuracy'])\n",
    "\n",
    "history = model.fit(X_train, y_train, epochs=50, validation_split=0.2, callbacks=[reduce_lr, early_stopping], verbose=1)"
   ],
   "id": "252d0610cffefe09",
   "outputs": [
    {
     "name": "stdout",
     "output_type": "stream",
     "text": [
      "Epoch 1/50\n",
      "2596/2596 [==============================] - 721s 277ms/step - loss: 1.1331 - accuracy: 0.5198 - val_loss: 1.0002 - val_accuracy: 0.5929 - lr: 0.0010\n",
      "Epoch 2/50\n",
      "2596/2596 [==============================] - 835s 322ms/step - loss: 0.9940 - accuracy: 0.5855 - val_loss: 0.9436 - val_accuracy: 0.6131 - lr: 0.0010\n",
      "Epoch 3/50\n",
      "2596/2596 [==============================] - 1808s 697ms/step - loss: 0.9574 - accuracy: 0.6038 - val_loss: 0.9243 - val_accuracy: 0.6183 - lr: 0.0010\n",
      "Epoch 4/50\n",
      "2596/2596 [==============================] - 1359s 523ms/step - loss: 0.9364 - accuracy: 0.6130 - val_loss: 0.9594 - val_accuracy: 0.6025 - lr: 0.0010\n",
      "Epoch 5/50\n",
      "2596/2596 [==============================] - 838s 323ms/step - loss: 0.9202 - accuracy: 0.6198 - val_loss: 0.9271 - val_accuracy: 0.6248 - lr: 0.0010\n",
      "Epoch 6/50\n",
      "2596/2596 [==============================] - 805s 310ms/step - loss: 0.9132 - accuracy: 0.6243 - val_loss: 0.9096 - val_accuracy: 0.6409 - lr: 0.0010\n",
      "Epoch 7/50\n",
      "2596/2596 [==============================] - 814s 313ms/step - loss: 0.9027 - accuracy: 0.6311 - val_loss: 0.9232 - val_accuracy: 0.6228 - lr: 0.0010\n",
      "Epoch 8/50\n",
      "2596/2596 [==============================] - 785s 302ms/step - loss: 0.8983 - accuracy: 0.6312 - val_loss: 0.9034 - val_accuracy: 0.6345 - lr: 0.0010\n",
      "Epoch 9/50\n",
      "2596/2596 [==============================] - 787s 303ms/step - loss: 0.8950 - accuracy: 0.6340 - val_loss: 0.9479 - val_accuracy: 0.6162 - lr: 0.0010\n",
      "Epoch 10/50\n",
      "2596/2596 [==============================] - 972s 374ms/step - loss: 0.8929 - accuracy: 0.6348 - val_loss: 0.8923 - val_accuracy: 0.6339 - lr: 0.0010\n",
      "Epoch 11/50\n",
      "2596/2596 [==============================] - 771s 297ms/step - loss: 0.8901 - accuracy: 0.6353 - val_loss: 1.0149 - val_accuracy: 0.5804 - lr: 0.0010\n",
      "Epoch 12/50\n",
      "2596/2596 [==============================] - 816s 314ms/step - loss: 0.8909 - accuracy: 0.6349 - val_loss: 0.8920 - val_accuracy: 0.6437 - lr: 0.0010\n",
      "Epoch 13/50\n",
      "2596/2596 [==============================] - 762s 294ms/step - loss: 0.8879 - accuracy: 0.6367 - val_loss: 0.8852 - val_accuracy: 0.6404 - lr: 0.0010\n",
      "Epoch 14/50\n",
      "2596/2596 [==============================] - 795s 306ms/step - loss: 0.8862 - accuracy: 0.6379 - val_loss: 0.9075 - val_accuracy: 0.6333 - lr: 0.0010\n",
      "Epoch 15/50\n",
      "2596/2596 [==============================] - 820s 316ms/step - loss: 0.8843 - accuracy: 0.6399 - val_loss: 0.9092 - val_accuracy: 0.6344 - lr: 0.0010\n",
      "Epoch 16/50\n",
      "2595/2596 [============================>.] - ETA: 0s - loss: 0.8843 - accuracy: 0.6373\n",
      "Epoch 16: ReduceLROnPlateau reducing learning rate to 0.0005000000237487257.\n",
      "2596/2596 [==============================] - 825s 318ms/step - loss: 0.8843 - accuracy: 0.6373 - val_loss: 0.9221 - val_accuracy: 0.6190 - lr: 0.0010\n",
      "Epoch 17/50\n",
      "2596/2596 [==============================] - 806s 311ms/step - loss: 0.8626 - accuracy: 0.6476 - val_loss: 0.8842 - val_accuracy: 0.6443 - lr: 5.0000e-04\n",
      "Epoch 18/50\n",
      "2596/2596 [==============================] - 811s 312ms/step - loss: 0.8525 - accuracy: 0.6520 - val_loss: 0.8821 - val_accuracy: 0.6442 - lr: 5.0000e-04\n",
      "Epoch 19/50\n",
      "2596/2596 [==============================] - 484s 187ms/step - loss: 0.8488 - accuracy: 0.6535 - val_loss: 0.8592 - val_accuracy: 0.6538 - lr: 5.0000e-04\n",
      "Epoch 20/50\n",
      "2596/2596 [==============================] - 842s 325ms/step - loss: 0.8476 - accuracy: 0.6561 - val_loss: 0.8699 - val_accuracy: 0.6488 - lr: 5.0000e-04\n",
      "Epoch 21/50\n",
      "2596/2596 [==============================] - 545s 210ms/step - loss: 0.8431 - accuracy: 0.6571 - val_loss: 0.8650 - val_accuracy: 0.6540 - lr: 5.0000e-04\n",
      "Epoch 22/50\n",
      "2595/2596 [============================>.] - ETA: 0s - loss: 0.8423 - accuracy: 0.6566\n",
      "Epoch 22: ReduceLROnPlateau reducing learning rate to 0.0002500000118743628.\n",
      "2596/2596 [==============================] - 646s 249ms/step - loss: 0.8423 - accuracy: 0.6566 - val_loss: 0.8813 - val_accuracy: 0.6442 - lr: 5.0000e-04\n",
      "Epoch 23/50\n",
      "2595/2596 [============================>.] - ETA: 0s - loss: 0.8287 - accuracy: 0.6625Restoring model weights from the end of the best epoch: 19.\n",
      "2596/2596 [==============================] - 821s 316ms/step - loss: 0.8288 - accuracy: 0.6625 - val_loss: 0.8700 - val_accuracy: 0.6534 - lr: 2.5000e-04\n",
      "Epoch 23: early stopping\n"
     ]
    }
   ],
   "execution_count": 45
  },
  {
   "metadata": {
    "ExecuteTime": {
     "end_time": "2024-08-26T12:31:39.093676Z",
     "start_time": "2024-08-26T12:31:38.854035Z"
    }
   },
   "cell_type": "code",
   "source": [
    "plt.figure(figsize=(12, 4))\n",
    "\n",
    "# Plot accuracy history\n",
    "plt.subplot(1, 2, 1)\n",
    "plt.plot(history.history['accuracy'], label='Train Accuracy')\n",
    "plt.plot(history.history['val_accuracy'], label='Validation Accuracy')\n",
    "plt.title('Accuracy')\n",
    "plt.xlabel('Epoch')\n",
    "plt.ylabel('Accuracy')\n",
    "plt.legend()\n",
    "\n",
    "# Plot loss history\n",
    "plt.subplot(1, 2, 2)\n",
    "plt.plot(history.history['loss'], label='Train Loss')\n",
    "plt.plot(history.history['val_loss'], label='Validation Loss')\n",
    "plt.title('Loss')\n",
    "plt.xlabel('Epoch')\n",
    "plt.ylabel('Loss')\n",
    "plt.legend()\n",
    "\n",
    "plt.tight_layout()\n",
    "plt.show()"
   ],
   "id": "74bcbfc352d2387d",
   "outputs": [
    {
     "data": {
      "text/plain": [
       "<Figure size 1200x400 with 2 Axes>"
      ],
      "image/png": "[encoded data removed]"
     },
     "metadata": {},
     "output_type": "display_data"
    }
   ],
   "execution_count": 51
  },
  {
   "metadata": {
    "ExecuteTime": {
     "end_time": "2024-08-26T11:56:12.276909Z",
     "start_time": "2024-08-26T11:54:59.047121Z"
    }
   },
   "cell_type": "code",
   "source": [
    "loss, accuracy = model.evaluate(X_test, y_test)\n",
    "print(f\"Loss: {loss}, Accuracy: {accuracy * 100:.4f}%\")"
   ],
   "id": "f61a062f005ae3a",
   "outputs": [
    {
     "name": "stdout",
     "output_type": "stream",
     "text": [
      "811/811 [==============================] - 71s 87ms/step - loss: 0.8643 - accuracy: 0.6481\n",
      "Loss: 0.8642942905426025, Accuracy: 64.8145%\n"
     ]
    }
   ],
   "execution_count": 47
  },
  {
   "metadata": {
    "ExecuteTime": {
     "end_time": "2024-08-26T11:57:23.046594Z",
     "start_time": "2024-08-26T11:56:12.280900Z"
    }
   },
   "cell_type": "code",
   "source": [
    "y_pred = model.predict(X_test)\n",
    "y_pred = np.argmax(y_pred, axis=1)\n",
    "y_test = np.argmax(y_test, axis=1)\n",
    "acc = accuracy_score(y_test, y_pred)\n",
    "print(f\"Accuracy: {acc * 100:.2f}%\")"
   ],
   "id": "6c579257b9594f0f",
   "outputs": [
    {
     "name": "stdout",
     "output_type": "stream",
     "text": [
      "811/811 [==============================] - 70s 86ms/step\n",
      "Accuracy: 64.81%\n"
     ]
    }
   ],
   "execution_count": 48
  },
  {
   "metadata": {
    "ExecuteTime": {
     "end_time": "2024-08-26T11:57:23.094718Z",
     "start_time": "2024-08-26T11:57:23.047887Z"
    }
   },
   "cell_type": "code",
   "source": "print(classification_report(y_test, y_pred, target_names=EVENTS_AASM_NEU))",
   "id": "c484a07fc864fa2",
   "outputs": [
    {
     "name": "stdout",
     "output_type": "stream",
     "text": [
      "              precision    recall  f1-score   support\n",
      "\n",
      "         REM       0.79      0.51      0.62      3253\n",
      "      NREM 1       0.59      0.71      0.65      8394\n",
      "      NREM 2       0.60      0.55      0.57      6188\n",
      "      NREM 3       0.68      0.64      0.66      3910\n",
      "        Wake       0.74      0.79      0.76      4206\n",
      "\n",
      "    accuracy                           0.65     25951\n",
      "   macro avg       0.68      0.64      0.65     25951\n",
      "weighted avg       0.66      0.65      0.65     25951\n",
      "\n"
     ]
    }
   ],
   "execution_count": 49
  },
  {
   "metadata": {
    "ExecuteTime": {
     "end_time": "2024-08-26T11:57:23.218824Z",
     "start_time": "2024-08-26T11:57:23.095623Z"
    }
   },
   "cell_type": "code",
   "source": [
    "cm = confusion_matrix(y_test, y_pred)\n",
    "disp = ConfusionMatrixDisplay(confusion_matrix=cm, display_labels=EVENTS_AASM_NEU.keys())\n",
    "fig, ax = plt.subplots(figsize=(6, 6))\n",
    "disp.plot(cmap=plt.cm.Blues,ax=ax, values_format='d', xticks_rotation=90)\n",
    "ax.grid(False)\n",
    "plt.show()"
   ],
   "id": "142f72a5e492bcfa",
   "outputs": [
    {
     "data": {
      "text/plain": [
       "<Figure size 600x600 with 2 Axes>"
      ],
      "image/png": "[encoded data removed]"
     },
     "metadata": {},
     "output_type": "display_data"
    }
   ],
   "execution_count": 50
  },
  {
   "metadata": {
    "ExecuteTime": {
     "end_time": "2024-08-26T11:57:23.221782Z",
     "start_time": "2024-08-26T11:57:23.220221Z"
    }
   },
   "cell_type": "code",
   "source": "",
   "id": "74486186bc849f76",
   "outputs": [],
   "execution_count": 50
  }
 ],
 "metadata": {
  "kernelspec": {
   "display_name": "Python 3",
   "language": "python",
   "name": "python3"
  },
  "language_info": {
   "codemirror_mode": {
    "name": "ipython",
    "version": 2
   },
   "file_extension": ".py",
   "mimetype": "text/x-python",
   "name": "python",
   "nbconvert_exporter": "python",
   "pygments_lexer": "ipython2",
   "version": "2.7.6"
  }
 },
 "nbformat": 4,
 "nbformat_minor": 5
}
