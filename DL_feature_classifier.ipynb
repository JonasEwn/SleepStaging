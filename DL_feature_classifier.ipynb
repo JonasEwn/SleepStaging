{
 "cells": [
  {
   "cell_type": "code",
   "id": "initial_id",
   "metadata": {
    "collapsed": true,
    "ExecuteTime": {
     "end_time": "2024-08-27T11:09:37.974062Z",
     "start_time": "2024-08-27T11:09:31.038203Z"
    }
   },
   "source": [
    "import glob\n",
    "import mne\n",
    "import os\n",
    "import re\n",
    "from bs4 import BeautifulSoup\n",
    "from keras import Sequential\n",
    "from keras.src.callbacks import EarlyStopping, ReduceLROnPlateau\n",
    "from keras.src.utils import to_categorical\n",
    "from joblib import dump\n",
    "from matplotlib import pyplot as plt\n",
    "from sklearn.metrics import confusion_matrix, ConfusionMatrixDisplay, accuracy_score, classification_report\n",
    "from sklearn.model_selection import train_test_split\n",
    "import numpy as np\n",
    "from scipy.stats import skew, kurtosis, entropy, mode\n",
    "from scipy.signal import stft, welch\n",
    "#from mne.time_frequency import psd_array_multitaper\n",
    "#import antropy as ant  # For sample entropy and spectral entropy\n",
    "#from pywt import wavedec\n",
    "import antropy as ant\n",
    "from sklearn.preprocessing import StandardScaler\n",
    "from tensorflow.keras.layers import Dense, Dropout, BatchNormalization, LeakyReLU"
   ],
   "outputs": [],
   "execution_count": 1
  },
  {
   "metadata": {},
   "cell_type": "markdown",
   "source": "**Ordner mit edf-Dateien suchen und vorbereiten**\n",
   "id": "f21de7100857b282"
  },
  {
   "metadata": {
    "ExecuteTime": {
     "end_time": "2024-08-27T11:09:37.978375Z",
     "start_time": "2024-08-27T11:09:37.975513Z"
    }
   },
   "cell_type": "code",
   "source": [
    "def find_edf(directory):\n",
    "    \"\"\"\n",
    "    Function to find the .edf files with ending [...] in a directory. \n",
    "    \"\"\"\n",
    "    paths = []\n",
    "    pattern = r\".*\\[\\d+\\].edf\"\n",
    "    for filename in os.listdir(directory):\n",
    "        if re.match(pattern, filename):\n",
    "            filepath = os.path.join(directory, filename)\n",
    "            paths.append(filepath)\n",
    "    \n",
    "    paths.sort()\n",
    "    return paths"
   ],
   "id": "91d21dc5b9d6040",
   "outputs": [],
   "execution_count": 2
  },
  {
   "metadata": {},
   "cell_type": "markdown",
   "source": "**Gewählte Kanäle aus EDF-Datei auslesen**",
   "id": "8662a417a233b6c3"
  },
  {
   "metadata": {
    "ExecuteTime": {
     "end_time": "2024-08-27T11:09:37.982731Z",
     "start_time": "2024-08-27T11:09:37.979367Z"
    }
   },
   "cell_type": "code",
   "source": [
    "def files_preparation(path):\n",
    "    \"\"\"\n",
    "    Read .edf File and choose channels\n",
    "    \"\"\"\n",
    "    \n",
    "    include = [\n",
    "        'EEG C4-A1',\n",
    "        'EEG C3-A2', \n",
    "        'EOG ROC-A1', \n",
    "        'EOG LOC-A2', \n",
    "        'EMG Chin',\n",
    "        'ECG I', \n",
    "        'ECG II', \n",
    "        'EEG A1-A2'\n",
    "    ]\n",
    "    \n",
    "    raw = mne.io.read_raw_edf(path, preload=True, verbose='error', include=include)\n",
    "    \n",
    "    raw.set_channel_types(\n",
    "        mapping={\n",
    "        'EEG C4-A1': 'eeg',\n",
    "        'EEG C3-A2': 'eeg',\n",
    "        'EEG A1-A2': 'eeg',\n",
    "        'EOG ROC-A1': 'eog',\n",
    "        'EOG LOC-A2': 'eog',\n",
    "        'EMG Chin': 'emg',\n",
    "        'ECG I': 'ecg',\n",
    "        'ECG II': 'ecg'\n",
    "        }\n",
    "    )\n",
    "    \n",
    "    return raw"
   ],
   "id": "f1537fd584ef702f",
   "outputs": [],
   "execution_count": 3
  },
  {
   "metadata": {},
   "cell_type": "markdown",
   "source": "**Labels aus der dazugehörigen .rml-Datei auslesen**\n",
   "id": "f282ff6b61730112"
  },
  {
   "metadata": {
    "ExecuteTime": {
     "end_time": "2024-08-27T11:09:37.988334Z",
     "start_time": "2024-08-27T11:09:37.984591Z"
    }
   },
   "cell_type": "code",
   "source": [
    "def rml_to_annotations(directory, raw_data):\n",
    "    \"\"\"\n",
    "    Reads .rml file and converts labels to for MNE.Epochs useable onset, describtion, duration.\n",
    "    Where onset is the start of an Epoch, description is the label of the Epoch and duration is the duration of the Epoch.\n",
    "    \"\"\"\n",
    "    \n",
    "    os.chdir(directory)\n",
    "    rml = None\n",
    "    for file in glob.glob(\"*.rml\"):\n",
    "        rml = file\n",
    "        break\n",
    "    with open(rml, 'r') as f:\n",
    "        rml_data = f.read()\n",
    "    user_staging = BeautifulSoup(rml_data, 'xml').find(\"UserStaging\").find(\"NeuroRKStaging\")\n",
    "    start_time = []\n",
    "    sleep_stage = []\n",
    "    for stage in user_staging.find_all('Stage'):\n",
    "        start_time.append(int(stage['Start']))\n",
    "        sleep_stage.append(stage['Type'])\n",
    "        \n",
    "    onset = np.array(start_time)\n",
    "    description = np.array(sleep_stage)\n",
    "    raw_duration = raw_data.times[-1] - raw_data.times[0]\n",
    "    duration = np.diff(np.append(onset, raw_duration))\n",
    "    return onset, description, duration"
   ],
   "id": "4695ea07f89b2c63",
   "outputs": [],
   "execution_count": 4
  },
  {
   "metadata": {},
   "cell_type": "markdown",
   "source": "**Erstellt 30 Sekunden Epochen aus allen EDF-Dateien und den Labels und Preprocesseses die rohen Dateien**\n",
   "id": "af1aed8cc21d074c"
  },
  {
   "metadata": {
    "ExecuteTime": {
     "end_time": "2024-08-27T11:09:37.994655Z",
     "start_time": "2024-08-27T11:09:37.989384Z"
    }
   },
   "cell_type": "code",
   "source": [
    "tmax = 30 - 1 / 200 # tmax describes length of an Epoch\n",
    "\n",
    "# Sleep stages acording to AASM\n",
    "EVENTS_AASM = {\n",
    "    \"REM\": 1,\n",
    "    \"NREM 1\": 2,\n",
    "    \"NREM 2\": 3,\n",
    "    \"NREM 3\": 4,\n",
    "    \"Wake\": 5,\n",
    "}\n",
    "\n",
    "def data_preparation(directory):\n",
    "    \"\"\"\n",
    "    Function converts the raw edf files to MNE.Epochs and returns them.\n",
    "    \"\"\"\n",
    "    \n",
    "    print(\"Data from Directory:  \", directory)\n",
    "    paths = find_edf(directory)\n",
    "    data_list = []\n",
    "    for path in paths:\n",
    "        raw = files_preparation(path)\n",
    "        data_list.append(raw)\n",
    "    \n",
    "    raw_data = mne.concatenate_raws(data_list)\n",
    "    \n",
    "    \n",
    "    raw_data = raw_data.filter(\n",
    "        picks='all',\n",
    "        l_freq=0.5,\n",
    "        h_freq=49.5,\n",
    "        method='iir',\n",
    "        iir_params=dict(order=10, ftype='butter'),\n",
    "        verbose='error'\n",
    "    ) \n",
    "    \n",
    "    \n",
    "    onset, description, duration = rml_to_annotations(directory, raw_data)\n",
    "    annotations = mne.Annotations(onset=onset, description=description, duration=duration)\n",
    "    annotations.crop(\n",
    "        annotations[1]['onset'] - 30 * 20, # 30 * 60 = 1200 Ersten 10 Minuten entfernen\n",
    "        annotations[-2]['onset'] + 30 * 20 # Letzten 10 Minuten entfernen\n",
    "    )\n",
    "    raw_data.set_annotations(annotations)\n",
    "        \n",
    "    events, _ = mne.events_from_annotations(\n",
    "        raw_data, \n",
    "        chunk_duration=30,\n",
    "        verbose='error'\n",
    "    )\n",
    "    \n",
    "    epochs = mne.Epochs(\n",
    "        raw=raw_data,\n",
    "        events=events,\n",
    "        event_id=EVENTS_AASM,\n",
    "        tmin=0.0,\n",
    "        baseline=None,\n",
    "        tmax=tmax,\n",
    "        verbose='error',\n",
    "        on_missing='warn'\n",
    "    )\n",
    "    \n",
    "    labels = epochs.events[:, 2]\n",
    "    \n",
    "    return epochs, labels"
   ],
   "id": "24198fb4ac2d657b",
   "outputs": [],
   "execution_count": 5
  },
  {
   "metadata": {},
   "cell_type": "markdown",
   "source": [
    "#### Feature Extraction\n",
    "\n",
    "\n",
    "**1. Time Domain Features**"
   ],
   "id": "46dc6d8bedb9b620"
  },
  {
   "metadata": {
    "ExecuteTime": {
     "end_time": "2024-08-27T11:09:38.003071Z",
     "start_time": "2024-08-27T11:09:37.995633Z"
    }
   },
   "cell_type": "code",
   "source": [
    "def mean(epochs):\n",
    "    # Calculates Mean\n",
    "    data = epochs.get_data(verbose='error')\n",
    "    mean_features = np.mean(data, axis=2)\n",
    "    return mean_features\n",
    "\n",
    "def median(epochs):\n",
    "    # Calculates Median\n",
    "    data = epochs.get_data(verbose='error')\n",
    "    median_features = np.median(data, axis=2)\n",
    "    return median_features\n",
    "\n",
    "def mode_feat(epochs):\n",
    "    # Calculates Mode\n",
    "    data = epochs.get_data(verbose='error')\n",
    "    mode_features, _ = mode(data, axis=2)\n",
    "    return mode_features\n",
    "\n",
    "def minimum(epochs):\n",
    "    # Calculates Minimum\n",
    "    data = epochs.get_data(verbose='error')\n",
    "    min_values = np.min(data, axis=2)\n",
    "    return min_values\n",
    "\n",
    "def maximum(epochs):\n",
    "    # Calculates Minimum\n",
    "    data = epochs.get_data(verbose='error')\n",
    "    return np.max(data, axis=2)\n",
    "\n",
    "def standard_derivation(epochs):\n",
    "    # Calculates standard deviation\n",
    "    data = epochs.get_data(verbose='error')\n",
    "    std_features = np.std(data, axis=2)\n",
    "    return std_features\n",
    "\n",
    "def variance_skewness(epochs):\n",
    "    # Calculates Variance Skewness\n",
    "    data = epochs.get_data(verbose='error')\n",
    "    variance_features = np.var(data, axis=2)\n",
    "    return variance_features\n",
    "\n",
    "def kurtosis_feat(epochs):\n",
    "    # Calculates Kurtosis\n",
    "    data = epochs.get_data(verbose='error')\n",
    "    kurtosis_data = kurtosis(data, axis=2, fisher=False)\n",
    "    return kurtosis_data\n",
    "\n",
    "def percentile(epochs, percent = 50):\n",
    "    # Calculates Percentile\n",
    "    data = epochs.get_data(verbose='error')\n",
    "    percentile_features = np.percentile(data, percent, axis=2)\n",
    "    return percentile_features\n",
    "\n",
    "def energy_sis(epochs):\n",
    "    \"\"\"\n",
    "    Calculates the energy of the signals\n",
    "    \"\"\"\n",
    "    \n",
    "    data = epochs.get_data(verbose='error') \n",
    "    n_epochs, n_channels, n_times = data.shape\n",
    "\n",
    "    energy_array = np.zeros((n_epochs, n_channels))\n",
    "\n",
    "    for epoch_idx in range(n_epochs):\n",
    "        for channel_idx in range(n_channels):\n",
    "            signal = data[epoch_idx, channel_idx, :]\n",
    "\n",
    "            energy = np.sum(signal ** 2)\n",
    "\n",
    "            energy_array[epoch_idx, channel_idx] = energy\n",
    "\n",
    "    return energy_array\n",
    "\n",
    "\n",
    "def time_domain_features(epochs):\n",
    "    \"\"\"\n",
    "    Where all time domain functions are called\n",
    "    \"\"\"\n",
    "    time_features_methods = [\n",
    "        # Hier werden die Time Domain Feature berechnet\n",
    "        mean(epochs),\n",
    "        median(epochs),\n",
    "        mode_feat(epochs),\n",
    "        minimum(epochs),\n",
    "        maximum(epochs),\n",
    "        standard_derivation(epochs),\n",
    "        variance_skewness(epochs),\n",
    "        kurtosis_feat(epochs),\n",
    "        percentile(epochs),\n",
    "        energy_sis(epochs)\n",
    "        \n",
    "    ]\n",
    "    return np.concatenate(time_features_methods, axis=1)"
   ],
   "id": "bdfc6c13e7be58fb",
   "outputs": [],
   "execution_count": 6
  },
  {
   "metadata": {},
   "cell_type": "markdown",
   "source": "**2. Frequency Domain Features**",
   "id": "1c2f8395c3a7b8df"
  },
  {
   "metadata": {
    "ExecuteTime": {
     "end_time": "2024-08-27T11:09:38.010866Z",
     "start_time": "2024-08-27T11:09:38.004067Z"
    }
   },
   "cell_type": "code",
   "source": [
    "def eeg_power_band(epochs):\n",
    "    \"\"\"\n",
    "    Calculates power bands from EEG channels\n",
    "    \"\"\"\n",
    "    \n",
    "    FREQ_BANDS = {\n",
    "        \"delta\": [0.5, 4],\n",
    "        \"theta\": [4, 8],\n",
    "        \"alpha\": [8, 13],\n",
    "        \"sigma\": [12, 16],\n",
    "        \"beta\": [13, 30],\n",
    "    }\n",
    "\n",
    "    spectrum = epochs.compute_psd(picks=\"eeg\", method='welch', fmin=0.5, fmax=30.0, verbose='error')\n",
    "    psds, freqs = spectrum.get_data(return_freqs=True)\n",
    "    psds /= np.sum(psds, axis=-1, keepdims=True)\n",
    "\n",
    "    X = []\n",
    "    for fmin, fmax in FREQ_BANDS.values():\n",
    "        psds_band = psds[:, :, (freqs >= fmin) & (freqs < fmax)].mean(axis=-1)\n",
    "        X.append(psds_band.reshape(len(psds), -1))\n",
    "\n",
    "    re = np.concatenate(X, axis=1)\n",
    "    return re\n",
    "\n",
    "\n",
    "def frequency_domain_features(epochs):\n",
    "    \"\"\"\n",
    "    Where all frequency domain functions are called\n",
    "    \"\"\"\n",
    "    frequency_features_methods = [\n",
    "        eeg_power_band(epochs),\n",
    "    ]\n",
    "    return np.concatenate(frequency_features_methods, axis=1)"
   ],
   "id": "301e5cb89dff59bc",
   "outputs": [],
   "execution_count": 7
  },
  {
   "metadata": {},
   "cell_type": "markdown",
   "source": "**3. Non-Linear Features**",
   "id": "221e2968131c8f7d"
  },
  {
   "metadata": {
    "ExecuteTime": {
     "end_time": "2024-08-27T11:09:38.016123Z",
     "start_time": "2024-08-27T11:09:38.011868Z"
    }
   },
   "cell_type": "code",
   "source": [
    "def zero_cross_rate(epochs):\n",
    "    # Calculates Zero Cross Rate\n",
    "    data = epochs.get_data(verbose='error')\n",
    "    return np.mean(np.diff(np.sign(data), axis=2) != 0, axis=2)\n",
    "\n",
    "def spectral_entropy(epochs, method='fft', **kwargs):\n",
    "    \"\"\"\n",
    "    Calculates the spectral entropy for each epoch and channel\n",
    "    \"\"\"\n",
    "    \n",
    "    data = epochs.get_data(verbose='error')\n",
    "    sfreq = epochs.info['sfreq']\n",
    "    n_epochs, n_channels, n_times = data.shape\n",
    "    \n",
    "    spec_entropy_array = np.zeros((n_epochs, n_channels))\n",
    "    \n",
    "    for epoch_idx in range(n_epochs):\n",
    "        for channel_idx in range(n_channels):\n",
    "            single_epoch_data = data[epoch_idx, channel_idx, :]\n",
    "            se = ant.spectral_entropy(single_epoch_data, method=method, sf=sfreq, **kwargs)\n",
    "            spec_entropy_array[epoch_idx, channel_idx] = se\n",
    "    \n",
    "    return spec_entropy_array\n",
    "\n",
    "def non_linear_features(epochs):\n",
    "    \"\"\"\n",
    "    Where all non-linear functions are called\n",
    "    \"\"\"\n",
    "    nlinear_features_methods = [\n",
    "        zero_cross_rate(epochs),\n",
    "        spectral_entropy(epochs)\n",
    "    ]\n",
    "    return np.concatenate(nlinear_features_methods, axis=1)"
   ],
   "id": "805ab7584c0f33f",
   "outputs": [],
   "execution_count": 8
  },
  {
   "metadata": {},
   "cell_type": "markdown",
   "source": "**Feature Function**",
   "id": "4b99a825b0ffb09d"
  },
  {
   "metadata": {
    "ExecuteTime": {
     "end_time": "2024-08-27T11:09:38.019523Z",
     "start_time": "2024-08-27T11:09:38.017018Z"
    }
   },
   "cell_type": "code",
   "source": [
    "def feature_extraction(epochs):\n",
    "    \"\"\"\n",
    "    Calls the functions that calculate the features and returns np.Array containing the features \n",
    "    \"\"\"\n",
    "    features_methods = [\n",
    "        time_domain_features(epochs),\n",
    "        frequency_domain_features(epochs),\n",
    "        non_linear_features(epochs)\n",
    "    ]\n",
    "    \n",
    "    features_methods = np.concatenate(features_methods, axis=1)\n",
    "    return features_methods"
   ],
   "id": "d2e275b9f6781c78",
   "outputs": [],
   "execution_count": 9
  },
  {
   "metadata": {},
   "cell_type": "markdown",
   "source": "**Sucht nach allen Unterordner, liest diese aus und gibt fertige Epochen aus allen Dateien zurück**\n",
   "id": "6da63704386e3a80"
  },
  {
   "metadata": {
    "ExecuteTime": {
     "end_time": "2024-08-27T11:49:32.090407Z",
     "start_time": "2024-08-27T11:09:38.022562Z"
    }
   },
   "cell_type": "code",
   "source": [
    "def list_subdirectories(directory):\n",
    "    \"\"\"\n",
    "    Lists all subdirectories in the given directory.\n",
    "    \"\"\"\n",
    "    return [os.path.join(directory, sub_dir) for sub_dir in os.listdir(directory) if os.path.isdir(os.path.join(directory, sub_dir))]\n",
    "\n",
    "def process_all_folders(main_directory):\n",
    "    \"\"\"\n",
    "    Iterates over all subdirectories in the main directory and prepares data.\n",
    "    \"\"\"\n",
    "    all_epochs = []\n",
    "    all_labels = []\n",
    "    \n",
    "    subdirectories = list_subdirectories(main_directory)\n",
    "    \n",
    "    for sub_dir in subdirectories:\n",
    "        epochs, labels = data_preparation(sub_dir)\n",
    "        epochs = feature_extraction(epochs)\n",
    "        all_epochs.append(epochs)\n",
    "        all_labels.append(labels)\n",
    "    \n",
    "    # Combine all data if needed\n",
    "    combined_epochs = np.concatenate(all_epochs, axis=0) if all_epochs else None\n",
    "    combined_labels = np.concatenate(all_labels, axis=0) if all_labels else None\n",
    "    \n",
    "    return combined_epochs, combined_labels\n",
    "\n",
    "\n",
    "# Directory\n",
    "main_directory = '/Volumes/Jonas_SSD/test'\n",
    "\n",
    "# Saves Array with data and labels in X and y\n",
    "X, y = process_all_folders(main_directory)"
   ],
   "id": "bb57427c9b847a9c",
   "outputs": [
    {
     "name": "stdout",
     "output_type": "stream",
     "text": [
      "Data from Directory:   /Volumes/Jonas_SSD/test/00000021-A5BS00755\n",
      "Data from Directory:   /Volumes/Jonas_SSD/test/00000702-A5BS00755\n",
      "Data from Directory:   /Volumes/Jonas_SSD/test/00000042-A5BS00755\n",
      "Data from Directory:   /Volumes/Jonas_SSD/test/00000775-A5BS00755\n",
      "Data from Directory:   /Volumes/Jonas_SSD/test/00000035-A5BS00755\n",
      "Data from Directory:   /Volumes/Jonas_SSD/test/00000398-A5BS00755\n",
      "Data from Directory:   /Volumes/Jonas_SSD/test/00000062-A5BS00755\n",
      "Data from Directory:   /Volumes/Jonas_SSD/test/00000706-A5BS00755\n",
      "Data from Directory:   /Volumes/Jonas_SSD/test/00000043-A5BS00755\n",
      "Data from Directory:   /Volumes/Jonas_SSD/test/00000055-A5BS00755\n",
      "Data from Directory:   /Volumes/Jonas_SSD/test/00000708-A5BS00755\n",
      "Data from Directory:   /Volumes/Jonas_SSD/test/00000060-A5BS00755\n",
      "Data from Directory:   /Volumes/Jonas_SSD/test/00000077-A5BS00755\n",
      "Data from Directory:   /Volumes/Jonas_SSD/test/00000709-A5BS00755\n",
      "Data from Directory:   /Volumes/Jonas_SSD/test/00000070-A5BS00755\n",
      "Data from Directory:   /Volumes/Jonas_SSD/test/00000087-A5BS00755\n",
      "Data from Directory:   /Volumes/Jonas_SSD/test/00000710-A5BS00755\n",
      "Data from Directory:   /Volumes/Jonas_SSD/test/00000079-A5BS00755\n",
      "Data from Directory:   /Volumes/Jonas_SSD/test/00000080-A5BS00755\n",
      "Data from Directory:   /Volumes/Jonas_SSD/test/00000719-A5BS00755\n",
      "Data from Directory:   /Volumes/Jonas_SSD/test/00000086-A5BS00755\n",
      "Data from Directory:   /Volumes/Jonas_SSD/test/00000089-A5BS00755\n",
      "Data from Directory:   /Volumes/Jonas_SSD/test/00000726-A5BS00755\n",
      "Data from Directory:   /Volumes/Jonas_SSD/test/00000091-A5BS00755\n",
      "Data from Directory:   /Volumes/Jonas_SSD/test/00000094-A5BS00755\n",
      "Data from Directory:   /Volumes/Jonas_SSD/test/00000727-A5BS00755\n",
      "Data from Directory:   /Volumes/Jonas_SSD/test/00000106-A5BS00755\n",
      "Data from Directory:   /Volumes/Jonas_SSD/test/00000107-A5BS00755\n",
      "Data from Directory:   /Volumes/Jonas_SSD/test/00000728-A5BS00755\n",
      "Data from Directory:   /Volumes/Jonas_SSD/test/00000108-A5BS00755\n",
      "Data from Directory:   /Volumes/Jonas_SSD/test/00000110-A5BS00755\n",
      "Data from Directory:   /Volumes/Jonas_SSD/test/00000731-A5BS00755\n",
      "Data from Directory:   /Volumes/Jonas_SSD/test/00000111-A5BS00755\n",
      "Data from Directory:   /Volumes/Jonas_SSD/test/00000113-A5BS00755\n",
      "Data from Directory:   /Volumes/Jonas_SSD/test/00000736-A5BS00755\n",
      "Data from Directory:   /Volumes/Jonas_SSD/test/00000114-A5BS00755\n",
      "Data from Directory:   /Volumes/Jonas_SSD/test/00000115-A5BS00755\n",
      "Data from Directory:   /Volumes/Jonas_SSD/test/00000743-A5BS00755\n",
      "Data from Directory:   /Volumes/Jonas_SSD/test/00000116-A5BS00755\n",
      "Data from Directory:   /Volumes/Jonas_SSD/test/00000117-A5BS00755\n",
      "Data from Directory:   /Volumes/Jonas_SSD/test/00000744-A5BS00755\n",
      "Data from Directory:   /Volumes/Jonas_SSD/test/00000123-A5BS00755\n",
      "Data from Directory:   /Volumes/Jonas_SSD/test/00000124-A5BS00755\n",
      "Data from Directory:   /Volumes/Jonas_SSD/test/00000751-A5BS00755\n",
      "Data from Directory:   /Volumes/Jonas_SSD/test/00000126-A5BS00755\n",
      "Data from Directory:   /Volumes/Jonas_SSD/test/00000127-A5BS00755\n",
      "Data from Directory:   /Volumes/Jonas_SSD/test/00000752-A5BS00755\n",
      "Data from Directory:   /Volumes/Jonas_SSD/test/00000133-A5BS00755\n",
      "Data from Directory:   /Volumes/Jonas_SSD/test/00000136-A5BS00755\n",
      "Data from Directory:   /Volumes/Jonas_SSD/test/00000753-A5BS00755\n",
      "Data from Directory:   /Volumes/Jonas_SSD/test/00000137-A5BS00755\n",
      "Data from Directory:   /Volumes/Jonas_SSD/test/00000139-A5BS00755\n",
      "Data from Directory:   /Volumes/Jonas_SSD/test/00000755-A5BS00755\n",
      "Data from Directory:   /Volumes/Jonas_SSD/test/00000145-A5BS00755\n",
      "Data from Directory:   /Volumes/Jonas_SSD/test/00000147-A5BS00755\n",
      "Data from Directory:   /Volumes/Jonas_SSD/test/00000759-A5BS00755\n",
      "Data from Directory:   /Volumes/Jonas_SSD/test/00000152-A5BS00755\n",
      "Data from Directory:   /Volumes/Jonas_SSD/test/00000153-A5BS00755\n",
      "Data from Directory:   /Volumes/Jonas_SSD/test/00000767-A5BS00755\n",
      "Data from Directory:   /Volumes/Jonas_SSD/test/00000160-A5BS00755\n",
      "Data from Directory:   /Volumes/Jonas_SSD/test/00000161-A5BS00755\n",
      "Data from Directory:   /Volumes/Jonas_SSD/test/00000769-A5BS00755\n",
      "Data from Directory:   /Volumes/Jonas_SSD/test/00000169-A5BS00755\n",
      "Data from Directory:   /Volumes/Jonas_SSD/test/00000180-A5BS00755\n",
      "Data from Directory:   /Volumes/Jonas_SSD/test/00000770-A5BS00755\n",
      "Data from Directory:   /Volumes/Jonas_SSD/test/00000181-A5BS00755\n",
      "Data from Directory:   /Volumes/Jonas_SSD/test/00000193-A5BS00755\n",
      "Data from Directory:   /Volumes/Jonas_SSD/test/00000772-A5BS00755\n",
      "Data from Directory:   /Volumes/Jonas_SSD/test/00000199-A5BS00755\n",
      "Data from Directory:   /Volumes/Jonas_SSD/test/00000204-A5BS00755\n",
      "Data from Directory:   /Volumes/Jonas_SSD/test/00000774-A5BS00755\n",
      "Data from Directory:   /Volumes/Jonas_SSD/test/00000206-A5BS00755\n",
      "Data from Directory:   /Volumes/Jonas_SSD/test/00000207-A5BS00755\n",
      "Data from Directory:   /Volumes/Jonas_SSD/test/00000211-A5BS00755\n",
      "Data from Directory:   /Volumes/Jonas_SSD/test/00000213-A5BS00755\n",
      "Data from Directory:   /Volumes/Jonas_SSD/test/00000216-A5BS00755\n",
      "Data from Directory:   /Volumes/Jonas_SSD/test/00000223-A5BS00755\n",
      "Data from Directory:   /Volumes/Jonas_SSD/test/00000231-A5BS00755\n",
      "Data from Directory:   /Volumes/Jonas_SSD/test/00000233-A5BS00755\n",
      "Data from Directory:   /Volumes/Jonas_SSD/test/00000242-A5BS00755\n",
      "Data from Directory:   /Volumes/Jonas_SSD/test/00000243-A5BS00755\n",
      "Data from Directory:   /Volumes/Jonas_SSD/test/00000245-A5BS00755\n",
      "Data from Directory:   /Volumes/Jonas_SSD/test/00000246-A5BS00755\n",
      "Data from Directory:   /Volumes/Jonas_SSD/test/00000248-A5BS00755\n",
      "Data from Directory:   /Volumes/Jonas_SSD/test/00000263-A5BS00755\n",
      "Data from Directory:   /Volumes/Jonas_SSD/test/00000273-A5BS00755\n",
      "Data from Directory:   /Volumes/Jonas_SSD/test/00000283-A5BS00755\n",
      "Data from Directory:   /Volumes/Jonas_SSD/test/00000284-A5BS00755\n",
      "Data from Directory:   /Volumes/Jonas_SSD/test/00000285-A5BS00755\n",
      "Data from Directory:   /Volumes/Jonas_SSD/test/00000287-A5BS00755\n",
      "Data from Directory:   /Volumes/Jonas_SSD/test/00000293-A5BS00755\n",
      "Data from Directory:   /Volumes/Jonas_SSD/test/00000297-A5BS00755\n",
      "Data from Directory:   /Volumes/Jonas_SSD/test/00000299-A5BS00755\n",
      "Data from Directory:   /Volumes/Jonas_SSD/test/00000300-A5BS00755\n",
      "Data from Directory:   /Volumes/Jonas_SSD/test/00000319-A5BS00755\n",
      "Data from Directory:   /Volumes/Jonas_SSD/test/00000321-A5BS00755\n",
      "Data from Directory:   /Volumes/Jonas_SSD/test/00000322-A5BS00755\n",
      "Data from Directory:   /Volumes/Jonas_SSD/test/00000330-A5BS00755\n",
      "Data from Directory:   /Volumes/Jonas_SSD/test/00000331-A5BS00755\n",
      "Data from Directory:   /Volumes/Jonas_SSD/test/00000342-A5BS00755\n",
      "Data from Directory:   /Volumes/Jonas_SSD/test/00000351-A5BS00755\n",
      "Data from Directory:   /Volumes/Jonas_SSD/test/00000352-A5BS00755\n",
      "Data from Directory:   /Volumes/Jonas_SSD/test/00000357-A5BS00755\n",
      "Data from Directory:   /Volumes/Jonas_SSD/test/00000359-A5BS00755\n",
      "Data from Directory:   /Volumes/Jonas_SSD/test/00000368-A5BS00755\n",
      "Data from Directory:   /Volumes/Jonas_SSD/test/00000369-A5BS00755\n",
      "Data from Directory:   /Volumes/Jonas_SSD/test/00000378-A5BS00755\n",
      "Data from Directory:   /Volumes/Jonas_SSD/test/00000380-A5BS00755\n",
      "Data from Directory:   /Volumes/Jonas_SSD/test/00000384-A5BS00755\n",
      "Data from Directory:   /Volumes/Jonas_SSD/test/00000385-A5BS00755\n",
      "Data from Directory:   /Volumes/Jonas_SSD/test/00000386-A5BS00755\n",
      "Data from Directory:   /Volumes/Jonas_SSD/test/00000395-A5BS00755\n",
      "Data from Directory:   /Volumes/Jonas_SSD/test/00000396-A5BS00755\n",
      "Data from Directory:   /Volumes/Jonas_SSD/test/00000403-A5BS00755\n",
      "Data from Directory:   /Volumes/Jonas_SSD/test/00000416-A5BS00755\n",
      "Data from Directory:   /Volumes/Jonas_SSD/test/00000423-A5BS00755\n",
      "Data from Directory:   /Volumes/Jonas_SSD/test/00000424-A5BS00755\n",
      "Data from Directory:   /Volumes/Jonas_SSD/test/00000425-A5BS00755\n",
      "Data from Directory:   /Volumes/Jonas_SSD/test/00000427-A5BS00755\n",
      "Data from Directory:   /Volumes/Jonas_SSD/test/00000431-A5BS00755\n",
      "Data from Directory:   /Volumes/Jonas_SSD/test/00000432-A5BS00755\n",
      "Data from Directory:   /Volumes/Jonas_SSD/test/00000441-A5BS00755\n",
      "Data from Directory:   /Volumes/Jonas_SSD/test/00000448-A5BS00755\n",
      "Data from Directory:   /Volumes/Jonas_SSD/test/00000458-A5BS00755\n",
      "Data from Directory:   /Volumes/Jonas_SSD/test/00000466-A5BS00755\n",
      "Data from Directory:   /Volumes/Jonas_SSD/test/00000480-A5BS00755\n",
      "Data from Directory:   /Volumes/Jonas_SSD/test/00000493-A5BS00755\n",
      "Data from Directory:   /Volumes/Jonas_SSD/test/00000494-A5BS00755\n",
      "Data from Directory:   /Volumes/Jonas_SSD/test/00000496-A5BS00755\n",
      "Data from Directory:   /Volumes/Jonas_SSD/test/00000500-A5BS00755\n",
      "Data from Directory:   /Volumes/Jonas_SSD/test/00000501-A5BS00755\n",
      "Data from Directory:   /Volumes/Jonas_SSD/test/00000509-A5BS00755\n",
      "Data from Directory:   /Volumes/Jonas_SSD/test/00000512-A5BS00755\n",
      "Data from Directory:   /Volumes/Jonas_SSD/test/00000515-A5BS00755\n",
      "Data from Directory:   /Volumes/Jonas_SSD/test/00000516-A5BS00755\n",
      "Data from Directory:   /Volumes/Jonas_SSD/test/00000517-A5BS00755\n",
      "Data from Directory:   /Volumes/Jonas_SSD/test/00000519-A5BS00755\n",
      "Data from Directory:   /Volumes/Jonas_SSD/test/00000523-A5BS00755\n",
      "Data from Directory:   /Volumes/Jonas_SSD/test/00000527-A5BS00755\n",
      "Data from Directory:   /Volumes/Jonas_SSD/test/00000529-A5BS00755\n",
      "Data from Directory:   /Volumes/Jonas_SSD/test/00000531-A5BS00755\n",
      "Data from Directory:   /Volumes/Jonas_SSD/test/00000534-A5BS00755\n",
      "Data from Directory:   /Volumes/Jonas_SSD/test/00000536-A5BS00755\n",
      "Data from Directory:   /Volumes/Jonas_SSD/test/00000538-A5BS00755\n",
      "Data from Directory:   /Volumes/Jonas_SSD/test/00000542-A5BS00755\n",
      "Data from Directory:   /Volumes/Jonas_SSD/test/00000543-A5BS00755\n",
      "Data from Directory:   /Volumes/Jonas_SSD/test/00000544-A5BS00755\n",
      "Data from Directory:   /Volumes/Jonas_SSD/test/00000546-A5BS00755\n",
      "Data from Directory:   /Volumes/Jonas_SSD/test/00000548-A5BS00755\n",
      "Data from Directory:   /Volumes/Jonas_SSD/test/00000550-A5BS00755\n",
      "Data from Directory:   /Volumes/Jonas_SSD/test/00000551-A5BS00755\n",
      "Data from Directory:   /Volumes/Jonas_SSD/test/00000552-A5BS00755\n",
      "Data from Directory:   /Volumes/Jonas_SSD/test/00000553-A5BS00755\n",
      "Data from Directory:   /Volumes/Jonas_SSD/test/00000561-A5BS00755\n",
      "Data from Directory:   /Volumes/Jonas_SSD/test/00000562-A5BS00755\n",
      "Data from Directory:   /Volumes/Jonas_SSD/test/00000574-A5BS00755\n",
      "Data from Directory:   /Volumes/Jonas_SSD/test/00000576-A5BS00755\n",
      "Data from Directory:   /Volumes/Jonas_SSD/test/00000578-A5BS00755\n",
      "Data from Directory:   /Volumes/Jonas_SSD/test/00000586-A5BS00755\n",
      "Data from Directory:   /Volumes/Jonas_SSD/test/00000597-A5BS00755\n",
      "Data from Directory:   /Volumes/Jonas_SSD/test/00000605-A5BS00755\n",
      "Data from Directory:   /Volumes/Jonas_SSD/test/00000614-A5BS00755\n",
      "Data from Directory:   /Volumes/Jonas_SSD/test/00000645-A5BS00755\n",
      "Data from Directory:   /Volumes/Jonas_SSD/test/00000649-A5BS00755\n",
      "Data from Directory:   /Volumes/Jonas_SSD/test/00000657-A5BS00755\n",
      "Data from Directory:   /Volumes/Jonas_SSD/test/00000658-A5BS00755\n",
      "Data from Directory:   /Volumes/Jonas_SSD/test/00000666-A5BS00755\n",
      "Data from Directory:   /Volumes/Jonas_SSD/test/00000674-A5BS00755\n",
      "Data from Directory:   /Volumes/Jonas_SSD/test/00000676-A5BS00755\n",
      "Data from Directory:   /Volumes/Jonas_SSD/test/00000685-A5BS00755\n",
      "Data from Directory:   /Volumes/Jonas_SSD/test/00000686-A5BS00755\n",
      "Data from Directory:   /Volumes/Jonas_SSD/test/00000687-A5BS00755\n"
     ]
    }
   ],
   "execution_count": 10
  },
  {
   "metadata": {
    "ExecuteTime": {
     "end_time": "2024-08-27T11:49:32.095726Z",
     "start_time": "2024-08-27T11:49:32.091513Z"
    }
   },
   "cell_type": "code",
   "source": "X.shape, y.shape",
   "id": "14e0cf49d42f6633",
   "outputs": [
    {
     "data": {
      "text/plain": [
       "((129754, 111), (129754,))"
      ]
     },
     "execution_count": 11,
     "metadata": {},
     "output_type": "execute_result"
    }
   ],
   "execution_count": 11
  },
  {
   "metadata": {},
   "cell_type": "markdown",
   "source": [
    "**Modell vorbereiten, trainieren und testen**\n",
    "\n",
    "Alle EEG, ECG & EOG:\n",
    "\n",
    "- 63,86% -> 2 Hidden Layer mit ReLu und 64 Notes - 30 Epochen - Klassen Acc ausgeglichen (58+)- kein Scaler - kein ReliefF - kein Dropout\n",
    "- 74,84% -> 2 Hidden Layer mit ReLu und 64 Notes - 30 Epochen - Klassen Acc ausgeglichen (70+) - mit Scaler - kein ReliefF - kein Dropout\n",
    "- 73,93% -> 2 Hidden Layer mit ReLu und 64 Notes - 30 Epochen - Klassen Acc ausgeglichen (68+) - mit Scaler - kein ReliefF - mit Dropout (30%)\n",
    "- 75,71% -> 2 Hidden Layer mit ReLu und 64 Notes - 50 Epochen - Klassen Acc ausgeglichen (69+) - mit Scaler - kein ReliefF - mit Dropout (20%)\n",
    "- 77,28% -> 3 Hidden Layer mit Relu und 128(2x), 64 Notes - 50 Epochen - Klassen Acc ausgeglichen (69%) - mit Scaler - kein ReliefF - mit Dropout (2x20%)\n",
    "- 75,60% -> 3 Hidden Layer mit Relu und 128, 64, 32 Notes - 50 Epochen - Klassen Acc ausgeglichen (68%) - mit Scaler - kein ReliefF - mit Dropout (2x20%)\n",
    "- 76,79% -> 4 Hidden Layer mit ReLu und 128(2x), 64 ,32 Notes - 50 Epochen - Klassen Acc ausgeglichen (69+) - mit Scaler - kein ReliefF - mit Dropout (3x20%)\n",
    "- 77,92% -> 3 Hidden Layer mit ReLu und 256, 128, 64 Notes - 50 Epochen - Klassen Acc ausgeglichen (71+) - mit Scaler - kein ReliefF - mit Dropout (2x20%)\n",
    "- 78,06% -> 3 Hidden Layer mit ReLu und 256, 128, 64 Notes - 50 Epochen - Klassen Acc ausgeglichen (69+) - mit Scaler - kein ReliefF - mit Dropout (2x20%) - mit Batch Normalization\n",
    "- 78,27% -> 4 Hidden Layer mit ReLu und 256(2x), 128, 64 Notes - 80 Epochen - Klassen Acc ausgeglichen (71+) - mit Scaler - kein ReliefF - mit Dropout (30%, 2x20%) - kein Batch Normalization\n",
    "- 78,16% -> 4 Hidden Layer mit ReLu und 512, 256, 128, 64 Notes - 80 Epochen - Klassen Acc ausgeglichen (71+) - mit Scaler - kein ReliefF - mit Dropout (30%, 2x20%) - kein Batch Normalization\n",
    "- 78,58% -> 4 Hidden Layer mit ReLu und 256(2x), 128, 64 Notes - 80 Epochen - Klassen Acc ausgeglichen (72+) - mit Scaler - kein ReliefF - mit Dropout (30%, 2x20%) - kein Batch Normalization - mit Reduce LR on Plateau\n",
    "- 78,76% -> 4 Hidden Layer mit ReLu und 256(2x), 128, 64 Notes - 80 Epochen - Klassen Acc ausgeglichen (72+) - mit Scaler - kein ReliefF - mit Dropout (3x30%) - kein Batch Normalization - mit Reduce LR on Plateau\n",
    "- 78,62% -> 4 Hidden Layer mit ReLu und 256(2x), 128, 64 Notes - 80 Epochen - Klassen Acc ausgeglichen (72+) - mit Scaler - kein ReliefF - mit Dropout (3x30%) - kein Batch Normalization\n",
    "- 78,93% -> 4 Hidden Layer mit ReLu und 288, 416, 256, 64 Notes - 80 Epochen - Klassen Acc ausgeglichen (73+) -mit Scaler - kein ReliefF - mit Dropout (3x30%) - mit Batch Normalization nach dem ersten Layer\n",
    "- 79,22% -> 3 Hidden Layer mit ReLu und 320, 512, 96 Notes - 80 Epochen - Klassen Acc ausgeglichen (73+) -mit Scaler - kein ReliefF - mit Dropout (3x30%) - mit Batch Normalization nach dem ersten Layer"
   ],
   "id": "c6ce17f09a0695ee"
  },
  {
   "metadata": {},
   "cell_type": "markdown",
   "source": "**Normalization**",
   "id": "258c1f4bdda5a5ae"
  },
  {
   "metadata": {
    "ExecuteTime": {
     "end_time": "2024-08-27T11:49:32.198322Z",
     "start_time": "2024-08-27T11:49:32.096752Z"
    }
   },
   "cell_type": "code",
   "source": [
    "print(f\"Before Scaling: {X[222, :10]}\") \n",
    "X = StandardScaler().fit_transform(X)\n",
    "print(f\"After Scaling:  {X[222, :10]}\")"
   ],
   "id": "c48d3c488858d9b7",
   "outputs": [
    {
     "name": "stdout",
     "output_type": "stream",
     "text": [
      "Before Scaling: [ 2.64504821e-08 -1.64480549e-08  6.15684526e-08 -4.74998777e-09\n",
      " -1.11762382e-09  2.17014702e-09  1.32438149e-07 -2.54186287e-08\n",
      " -1.73766874e-07  5.28585550e-08]\n",
      "After Scaling:  [ 0.2242799  -0.14475999  0.50272108 -0.03499775 -0.01375852  0.00717116\n",
      "  0.19499255 -0.06149885 -0.68829066  0.04905104]\n"
     ]
    }
   ],
   "execution_count": 12
  },
  {
   "metadata": {},
   "cell_type": "markdown",
   "source": "**One-Hot Encoding**",
   "id": "c964c7a26031777f"
  },
  {
   "metadata": {
    "ExecuteTime": {
     "end_time": "2024-08-27T11:49:32.208423Z",
     "start_time": "2024-08-27T11:49:32.199156Z"
    }
   },
   "cell_type": "code",
   "source": [
    "print(f\"Alte Labelnummern: {np.unique(y)}\")\n",
    "EVENTS_AASM_NEU = {\n",
    "    \"REM\": 0,\n",
    "    \"NREM 1\": 1,\n",
    "    \"NREM 2\": 2,\n",
    "    \"NREM 3\": 3,\n",
    "    \"Wake\": 4,\n",
    "}\n",
    "\n",
    "y = y - 1\n",
    "print(f\"Neue Labelnummern: {np.unique(y)}\")\n",
    "y = to_categorical(y)"
   ],
   "id": "7a8e569d628edd42",
   "outputs": [
    {
     "name": "stdout",
     "output_type": "stream",
     "text": [
      "Alte Labelnummern: [1 2 3 4 5]\n",
      "Neue Labelnummern: [0 1 2 3 4]\n"
     ]
    }
   ],
   "execution_count": 13
  },
  {
   "metadata": {},
   "cell_type": "markdown",
   "source": "**Splitting data in train and test set**",
   "id": "670d41572c0f899"
  },
  {
   "metadata": {
    "ExecuteTime": {
     "end_time": "2024-08-27T12:43:34.955871Z",
     "start_time": "2024-08-27T12:43:34.846884Z"
    }
   },
   "cell_type": "code",
   "source": "X_train, X_test, y_train, y_test = train_test_split(X, y, test_size=0.2)",
   "id": "22e908fc62e4e5d2",
   "outputs": [],
   "execution_count": 29
  },
  {
   "metadata": {},
   "cell_type": "markdown",
   "source": "**ANN Model**",
   "id": "224e5d8c79b8f1e3"
  },
  {
   "metadata": {
    "ExecuteTime": {
     "end_time": "2024-08-27T12:52:37.478306Z",
     "start_time": "2024-08-27T12:43:35.295224Z"
    }
   },
   "cell_type": "code",
   "source": [
    "#model = Sequential()\n",
    "#model.add(Dense(512, activation='relu'))\n",
    "#model.add(Dropout(0.5))\n",
    "#model.add(BatchNormalization())\n",
    "#model.add(Dense(256, activation='relu'))\n",
    "#model.add(Dropout(0.4))\n",
    "#model.add(Dense(128, activation='relu'))\n",
    "#model.add(Dropout(0.3))\n",
    "#model.add(Dense(64, activation='relu'))\n",
    "#model.add(Dense(5, activation='softmax'))\n",
    "\n",
    "\n",
    "#model = Sequential()\n",
    "#model.add(Dense(384, activation='relu'))\n",
    "#model.add(Dropout(0.40))\n",
    "#model.add(BatchNormalization())\n",
    "#model.add(Dense(512, activation='relu'))\n",
    "#model.add(Dropout(0.35))\n",
    "#model.add(Dense(256, activation='relu'))\n",
    "##model.add(Dropout(0.30))\n",
    "#model.add(Dense(128, activation='relu'))\n",
    "#model.add(Dropout(0.30))\n",
    "#model.add(Dense(64, activation='relu'))\n",
    "#model.add(Dense(5, activation='softmax'))\n",
    "\n",
    "model = Sequential()\n",
    "model.add(Dense(256, activation='relu'))\n",
    "model.add(Dropout(0.35))\n",
    "model.add(BatchNormalization())\n",
    "model.add(Dense(448, activation='relu'))\n",
    "model.add(Dropout(0.35))\n",
    "model.add(Dense(256, activation='relu'))\n",
    "model.add(Dropout(0.3))\n",
    "model.add(Dense(64, activation='relu'))\n",
    "model.add(Dropout(0.3))\n",
    "model.add(Dense(5, activation='softmax'))\n",
    "\n",
    "\n",
    "\n",
    "model.compile(optimizer='adam', loss='categorical_crossentropy', metrics=['accuracy'])\n",
    "\n",
    "\n",
    "early_stopping = EarlyStopping(monitor='val_loss', patience=8, restore_best_weights=True)\n",
    "reduce_lr = ReduceLROnPlateau(monitor='val_loss', factor=0.5, patience=3, min_lr=0.00001, verbose=1)\n",
    "\n",
    "\n",
    "history = model.fit(X_train, y_train, epochs=80, validation_split=0.15, callbacks=[reduce_lr], verbose=2)"
   ],
   "id": "9f73e0414b33a9f4",
   "outputs": [
    {
     "name": "stdout",
     "output_type": "stream",
     "text": [
      "Epoch 1/80\n",
      "2758/2758 - 10s - loss: 0.9796 - accuracy: 0.6021 - val_loss: 0.8168 - val_accuracy: 0.6738 - lr: 0.0010 - 10s/epoch - 4ms/step\n",
      "Epoch 2/80\n",
      "2758/2758 - 7s - loss: 0.8727 - accuracy: 0.6483 - val_loss: 0.7475 - val_accuracy: 0.6926 - lr: 0.0010 - 7s/epoch - 3ms/step\n",
      "Epoch 3/80\n",
      "2758/2758 - 7s - loss: 0.8329 - accuracy: 0.6630 - val_loss: 0.7266 - val_accuracy: 0.7019 - lr: 0.0010 - 7s/epoch - 2ms/step\n",
      "Epoch 4/80\n",
      "2758/2758 - 7s - loss: 0.8034 - accuracy: 0.6735 - val_loss: 0.7061 - val_accuracy: 0.7141 - lr: 0.0010 - 7s/epoch - 2ms/step\n",
      "Epoch 5/80\n",
      "2758/2758 - 7s - loss: 0.7808 - accuracy: 0.6814 - val_loss: 0.6738 - val_accuracy: 0.7251 - lr: 0.0010 - 7s/epoch - 2ms/step\n",
      "Epoch 6/80\n",
      "2758/2758 - 7s - loss: 0.7661 - accuracy: 0.6877 - val_loss: 0.6669 - val_accuracy: 0.7260 - lr: 0.0010 - 7s/epoch - 2ms/step\n",
      "Epoch 7/80\n",
      "2758/2758 - 7s - loss: 0.7502 - accuracy: 0.6933 - val_loss: 0.6511 - val_accuracy: 0.7224 - lr: 0.0010 - 7s/epoch - 2ms/step\n",
      "Epoch 8/80\n",
      "2758/2758 - 6s - loss: 0.7409 - accuracy: 0.6983 - val_loss: 0.6540 - val_accuracy: 0.7298 - lr: 0.0010 - 6s/epoch - 2ms/step\n",
      "Epoch 9/80\n",
      "2758/2758 - 6s - loss: 0.7288 - accuracy: 0.7004 - val_loss: 0.6488 - val_accuracy: 0.7239 - lr: 0.0010 - 6s/epoch - 2ms/step\n",
      "Epoch 10/80\n",
      "2758/2758 - 7s - loss: 0.7221 - accuracy: 0.7030 - val_loss: 0.6513 - val_accuracy: 0.7310 - lr: 0.0010 - 7s/epoch - 2ms/step\n",
      "Epoch 11/80\n",
      "2758/2758 - 7s - loss: 0.7182 - accuracy: 0.7054 - val_loss: 0.6352 - val_accuracy: 0.7395 - lr: 0.0010 - 7s/epoch - 2ms/step\n",
      "Epoch 12/80\n",
      "2758/2758 - 7s - loss: 0.7132 - accuracy: 0.7064 - val_loss: 0.6314 - val_accuracy: 0.7436 - lr: 0.0010 - 7s/epoch - 2ms/step\n",
      "Epoch 13/80\n",
      "2758/2758 - 7s - loss: 0.7046 - accuracy: 0.7105 - val_loss: 0.6438 - val_accuracy: 0.7421 - lr: 0.0010 - 7s/epoch - 2ms/step\n",
      "Epoch 14/80\n",
      "2758/2758 - 7s - loss: 0.7001 - accuracy: 0.7121 - val_loss: 0.6113 - val_accuracy: 0.7447 - lr: 0.0010 - 7s/epoch - 2ms/step\n",
      "Epoch 15/80\n",
      "2758/2758 - 7s - loss: 0.6951 - accuracy: 0.7141 - val_loss: 0.6195 - val_accuracy: 0.7411 - lr: 0.0010 - 7s/epoch - 2ms/step\n",
      "Epoch 16/80\n",
      "2758/2758 - 7s - loss: 0.6926 - accuracy: 0.7154 - val_loss: 0.6114 - val_accuracy: 0.7425 - lr: 0.0010 - 7s/epoch - 3ms/step\n",
      "Epoch 17/80\n",
      "2758/2758 - 7s - loss: 0.6885 - accuracy: 0.7160 - val_loss: 0.6059 - val_accuracy: 0.7473 - lr: 0.0010 - 7s/epoch - 2ms/step\n",
      "Epoch 18/80\n",
      "2758/2758 - 7s - loss: 0.6876 - accuracy: 0.7165 - val_loss: 0.6033 - val_accuracy: 0.7447 - lr: 0.0010 - 7s/epoch - 2ms/step\n",
      "Epoch 19/80\n",
      "2758/2758 - 6s - loss: 0.6782 - accuracy: 0.7216 - val_loss: 0.6007 - val_accuracy: 0.7506 - lr: 0.0010 - 6s/epoch - 2ms/step\n",
      "Epoch 20/80\n",
      "2758/2758 - 7s - loss: 0.6778 - accuracy: 0.7221 - val_loss: 0.5939 - val_accuracy: 0.7525 - lr: 0.0010 - 7s/epoch - 2ms/step\n",
      "Epoch 21/80\n",
      "2758/2758 - 7s - loss: 0.6752 - accuracy: 0.7227 - val_loss: 0.5986 - val_accuracy: 0.7542 - lr: 0.0010 - 7s/epoch - 2ms/step\n",
      "Epoch 22/80\n",
      "2758/2758 - 7s - loss: 0.6673 - accuracy: 0.7269 - val_loss: 0.6045 - val_accuracy: 0.7523 - lr: 0.0010 - 7s/epoch - 2ms/step\n",
      "Epoch 23/80\n",
      "2758/2758 - 7s - loss: 0.6685 - accuracy: 0.7250 - val_loss: 0.5886 - val_accuracy: 0.7524 - lr: 0.0010 - 7s/epoch - 2ms/step\n",
      "Epoch 24/80\n",
      "2758/2758 - 7s - loss: 0.6649 - accuracy: 0.7261 - val_loss: 0.5932 - val_accuracy: 0.7563 - lr: 0.0010 - 7s/epoch - 2ms/step\n",
      "Epoch 25/80\n",
      "2758/2758 - 7s - loss: 0.6627 - accuracy: 0.7273 - val_loss: 0.6017 - val_accuracy: 0.7475 - lr: 0.0010 - 7s/epoch - 2ms/step\n",
      "Epoch 26/80\n",
      "2758/2758 - 7s - loss: 0.6598 - accuracy: 0.7264 - val_loss: 0.5870 - val_accuracy: 0.7603 - lr: 0.0010 - 7s/epoch - 2ms/step\n",
      "Epoch 27/80\n",
      "2758/2758 - 7s - loss: 0.6572 - accuracy: 0.7305 - val_loss: 0.5777 - val_accuracy: 0.7618 - lr: 0.0010 - 7s/epoch - 2ms/step\n",
      "Epoch 28/80\n",
      "2758/2758 - 7s - loss: 0.6567 - accuracy: 0.7307 - val_loss: 0.5816 - val_accuracy: 0.7561 - lr: 0.0010 - 7s/epoch - 2ms/step\n",
      "Epoch 29/80\n",
      "2758/2758 - 7s - loss: 0.6531 - accuracy: 0.7305 - val_loss: 0.5792 - val_accuracy: 0.7623 - lr: 0.0010 - 7s/epoch - 2ms/step\n",
      "Epoch 30/80\n",
      "2758/2758 - 7s - loss: 0.6533 - accuracy: 0.7318 - val_loss: 0.5757 - val_accuracy: 0.7585 - lr: 0.0010 - 7s/epoch - 2ms/step\n",
      "Epoch 31/80\n",
      "2758/2758 - 7s - loss: 0.6506 - accuracy: 0.7325 - val_loss: 0.5861 - val_accuracy: 0.7549 - lr: 0.0010 - 7s/epoch - 2ms/step\n",
      "Epoch 32/80\n",
      "2758/2758 - 7s - loss: 0.6476 - accuracy: 0.7339 - val_loss: 0.5797 - val_accuracy: 0.7601 - lr: 0.0010 - 7s/epoch - 2ms/step\n",
      "Epoch 33/80\n",
      "\n",
      "Epoch 33: ReduceLROnPlateau reducing learning rate to 0.0005000000237487257.\n",
      "2758/2758 - 7s - loss: 0.6455 - accuracy: 0.7335 - val_loss: 0.5800 - val_accuracy: 0.7576 - lr: 0.0010 - 7s/epoch - 3ms/step\n",
      "Epoch 34/80\n",
      "2758/2758 - 7s - loss: 0.6235 - accuracy: 0.7426 - val_loss: 0.5596 - val_accuracy: 0.7699 - lr: 5.0000e-04 - 7s/epoch - 2ms/step\n",
      "Epoch 35/80\n",
      "2758/2758 - 7s - loss: 0.6155 - accuracy: 0.7456 - val_loss: 0.5604 - val_accuracy: 0.7688 - lr: 5.0000e-04 - 7s/epoch - 2ms/step\n",
      "Epoch 36/80\n",
      "2758/2758 - 7s - loss: 0.6106 - accuracy: 0.7494 - val_loss: 0.5588 - val_accuracy: 0.7711 - lr: 5.0000e-04 - 7s/epoch - 2ms/step\n",
      "Epoch 37/80\n",
      "2758/2758 - 7s - loss: 0.6077 - accuracy: 0.7494 - val_loss: 0.5554 - val_accuracy: 0.7720 - lr: 5.0000e-04 - 7s/epoch - 2ms/step\n",
      "Epoch 38/80\n",
      "2758/2758 - 7s - loss: 0.6029 - accuracy: 0.7509 - val_loss: 0.5585 - val_accuracy: 0.7705 - lr: 5.0000e-04 - 7s/epoch - 2ms/step\n",
      "Epoch 39/80\n",
      "2758/2758 - 7s - loss: 0.6047 - accuracy: 0.7506 - val_loss: 0.5544 - val_accuracy: 0.7721 - lr: 5.0000e-04 - 7s/epoch - 2ms/step\n",
      "Epoch 40/80\n",
      "2758/2758 - 7s - loss: 0.5982 - accuracy: 0.7537 - val_loss: 0.5508 - val_accuracy: 0.7730 - lr: 5.0000e-04 - 7s/epoch - 2ms/step\n",
      "Epoch 41/80\n",
      "2758/2758 - 7s - loss: 0.5989 - accuracy: 0.7531 - val_loss: 0.5490 - val_accuracy: 0.7739 - lr: 5.0000e-04 - 7s/epoch - 2ms/step\n",
      "Epoch 42/80\n",
      "2758/2758 - 7s - loss: 0.5961 - accuracy: 0.7535 - val_loss: 0.5451 - val_accuracy: 0.7747 - lr: 5.0000e-04 - 7s/epoch - 2ms/step\n",
      "Epoch 43/80\n",
      "2758/2758 - 7s - loss: 0.5955 - accuracy: 0.7546 - val_loss: 0.5463 - val_accuracy: 0.7740 - lr: 5.0000e-04 - 7s/epoch - 2ms/step\n",
      "Epoch 44/80\n",
      "2758/2758 - 7s - loss: 0.5934 - accuracy: 0.7558 - val_loss: 0.5454 - val_accuracy: 0.7746 - lr: 5.0000e-04 - 7s/epoch - 2ms/step\n",
      "Epoch 45/80\n",
      "\n",
      "Epoch 45: ReduceLROnPlateau reducing learning rate to 0.0002500000118743628.\n",
      "2758/2758 - 7s - loss: 0.5940 - accuracy: 0.7553 - val_loss: 0.5490 - val_accuracy: 0.7731 - lr: 5.0000e-04 - 7s/epoch - 2ms/step\n",
      "Epoch 46/80\n",
      "2758/2758 - 7s - loss: 0.5780 - accuracy: 0.7604 - val_loss: 0.5414 - val_accuracy: 0.7757 - lr: 2.5000e-04 - 7s/epoch - 2ms/step\n",
      "Epoch 47/80\n",
      "2758/2758 - 7s - loss: 0.5789 - accuracy: 0.7629 - val_loss: 0.5444 - val_accuracy: 0.7776 - lr: 2.5000e-04 - 7s/epoch - 2ms/step\n",
      "Epoch 48/80\n",
      "2758/2758 - 7s - loss: 0.5732 - accuracy: 0.7628 - val_loss: 0.5356 - val_accuracy: 0.7787 - lr: 2.5000e-04 - 7s/epoch - 2ms/step\n",
      "Epoch 49/80\n",
      "2758/2758 - 6s - loss: 0.5731 - accuracy: 0.7624 - val_loss: 0.5401 - val_accuracy: 0.7779 - lr: 2.5000e-04 - 6s/epoch - 2ms/step\n",
      "Epoch 50/80\n",
      "2758/2758 - 7s - loss: 0.5744 - accuracy: 0.7625 - val_loss: 0.5409 - val_accuracy: 0.7764 - lr: 2.5000e-04 - 7s/epoch - 2ms/step\n",
      "Epoch 51/80\n",
      "\n",
      "Epoch 51: ReduceLROnPlateau reducing learning rate to 0.0001250000059371814.\n",
      "2758/2758 - 7s - loss: 0.5731 - accuracy: 0.7632 - val_loss: 0.5366 - val_accuracy: 0.7802 - lr: 2.5000e-04 - 7s/epoch - 2ms/step\n",
      "Epoch 52/80\n",
      "2758/2758 - 7s - loss: 0.5651 - accuracy: 0.7656 - val_loss: 0.5328 - val_accuracy: 0.7789 - lr: 1.2500e-04 - 7s/epoch - 2ms/step\n",
      "Epoch 53/80\n",
      "2758/2758 - 9s - loss: 0.5647 - accuracy: 0.7654 - val_loss: 0.5325 - val_accuracy: 0.7804 - lr: 1.2500e-04 - 9s/epoch - 3ms/step\n",
      "Epoch 54/80\n",
      "2758/2758 - 7s - loss: 0.5665 - accuracy: 0.7645 - val_loss: 0.5305 - val_accuracy: 0.7798 - lr: 1.2500e-04 - 7s/epoch - 2ms/step\n",
      "Epoch 55/80\n",
      "2758/2758 - 6s - loss: 0.5612 - accuracy: 0.7682 - val_loss: 0.5326 - val_accuracy: 0.7807 - lr: 1.2500e-04 - 6s/epoch - 2ms/step\n",
      "Epoch 56/80\n",
      "2758/2758 - 6s - loss: 0.5608 - accuracy: 0.7682 - val_loss: 0.5299 - val_accuracy: 0.7809 - lr: 1.2500e-04 - 6s/epoch - 2ms/step\n",
      "Epoch 57/80\n",
      "2758/2758 - 6s - loss: 0.5586 - accuracy: 0.7688 - val_loss: 0.5311 - val_accuracy: 0.7827 - lr: 1.2500e-04 - 6s/epoch - 2ms/step\n",
      "Epoch 58/80\n",
      "2758/2758 - 6s - loss: 0.5612 - accuracy: 0.7680 - val_loss: 0.5330 - val_accuracy: 0.7809 - lr: 1.2500e-04 - 6s/epoch - 2ms/step\n",
      "Epoch 59/80\n",
      "\n",
      "Epoch 59: ReduceLROnPlateau reducing learning rate to 6.25000029685907e-05.\n",
      "2758/2758 - 7s - loss: 0.5590 - accuracy: 0.7686 - val_loss: 0.5315 - val_accuracy: 0.7801 - lr: 1.2500e-04 - 7s/epoch - 2ms/step\n",
      "Epoch 60/80\n",
      "2758/2758 - 6s - loss: 0.5540 - accuracy: 0.7696 - val_loss: 0.5300 - val_accuracy: 0.7813 - lr: 6.2500e-05 - 6s/epoch - 2ms/step\n",
      "Epoch 61/80\n",
      "2758/2758 - 7s - loss: 0.5555 - accuracy: 0.7703 - val_loss: 0.5303 - val_accuracy: 0.7834 - lr: 6.2500e-05 - 7s/epoch - 2ms/step\n",
      "Epoch 62/80\n",
      "2758/2758 - 7s - loss: 0.5526 - accuracy: 0.7698 - val_loss: 0.5287 - val_accuracy: 0.7834 - lr: 6.2500e-05 - 7s/epoch - 3ms/step\n",
      "Epoch 63/80\n",
      "2758/2758 - 7s - loss: 0.5517 - accuracy: 0.7729 - val_loss: 0.5278 - val_accuracy: 0.7817 - lr: 6.2500e-05 - 7s/epoch - 2ms/step\n",
      "Epoch 64/80\n",
      "2758/2758 - 7s - loss: 0.5519 - accuracy: 0.7700 - val_loss: 0.5269 - val_accuracy: 0.7818 - lr: 6.2500e-05 - 7s/epoch - 2ms/step\n",
      "Epoch 65/80\n",
      "2758/2758 - 7s - loss: 0.5519 - accuracy: 0.7710 - val_loss: 0.5281 - val_accuracy: 0.7821 - lr: 6.2500e-05 - 7s/epoch - 2ms/step\n",
      "Epoch 66/80\n",
      "2758/2758 - 6s - loss: 0.5516 - accuracy: 0.7711 - val_loss: 0.5280 - val_accuracy: 0.7812 - lr: 6.2500e-05 - 6s/epoch - 2ms/step\n",
      "Epoch 67/80\n",
      "\n",
      "Epoch 67: ReduceLROnPlateau reducing learning rate to 3.125000148429535e-05.\n",
      "2758/2758 - 7s - loss: 0.5498 - accuracy: 0.7722 - val_loss: 0.5295 - val_accuracy: 0.7829 - lr: 6.2500e-05 - 7s/epoch - 2ms/step\n",
      "Epoch 68/80\n",
      "2758/2758 - 7s - loss: 0.5526 - accuracy: 0.7707 - val_loss: 0.5282 - val_accuracy: 0.7820 - lr: 3.1250e-05 - 7s/epoch - 3ms/step\n",
      "Epoch 69/80\n",
      "2758/2758 - 7s - loss: 0.5521 - accuracy: 0.7696 - val_loss: 0.5297 - val_accuracy: 0.7815 - lr: 3.1250e-05 - 7s/epoch - 2ms/step\n",
      "Epoch 70/80\n",
      "2758/2758 - 7s - loss: 0.5506 - accuracy: 0.7725 - val_loss: 0.5262 - val_accuracy: 0.7835 - lr: 3.1250e-05 - 7s/epoch - 2ms/step\n",
      "Epoch 71/80\n",
      "2758/2758 - 7s - loss: 0.5476 - accuracy: 0.7732 - val_loss: 0.5287 - val_accuracy: 0.7826 - lr: 3.1250e-05 - 7s/epoch - 2ms/step\n",
      "Epoch 72/80\n",
      "2758/2758 - 6s - loss: 0.5510 - accuracy: 0.7709 - val_loss: 0.5276 - val_accuracy: 0.7824 - lr: 3.1250e-05 - 6s/epoch - 2ms/step\n",
      "Epoch 73/80\n",
      "\n",
      "Epoch 73: ReduceLROnPlateau reducing learning rate to 1.5625000742147677e-05.\n",
      "2758/2758 - 7s - loss: 0.5487 - accuracy: 0.7732 - val_loss: 0.5265 - val_accuracy: 0.7830 - lr: 3.1250e-05 - 7s/epoch - 2ms/step\n",
      "Epoch 74/80\n",
      "2758/2758 - 7s - loss: 0.5475 - accuracy: 0.7728 - val_loss: 0.5271 - val_accuracy: 0.7820 - lr: 1.5625e-05 - 7s/epoch - 2ms/step\n",
      "Epoch 75/80\n",
      "2758/2758 - 7s - loss: 0.5470 - accuracy: 0.7730 - val_loss: 0.5258 - val_accuracy: 0.7825 - lr: 1.5625e-05 - 7s/epoch - 3ms/step\n",
      "Epoch 76/80\n",
      "2758/2758 - 7s - loss: 0.5477 - accuracy: 0.7726 - val_loss: 0.5260 - val_accuracy: 0.7824 - lr: 1.5625e-05 - 7s/epoch - 2ms/step\n",
      "Epoch 77/80\n",
      "2758/2758 - 7s - loss: 0.5465 - accuracy: 0.7738 - val_loss: 0.5263 - val_accuracy: 0.7821 - lr: 1.5625e-05 - 7s/epoch - 2ms/step\n",
      "Epoch 78/80\n",
      "\n",
      "Epoch 78: ReduceLROnPlateau reducing learning rate to 1e-05.\n",
      "2758/2758 - 7s - loss: 0.5487 - accuracy: 0.7733 - val_loss: 0.5342 - val_accuracy: 0.7802 - lr: 1.5625e-05 - 7s/epoch - 2ms/step\n",
      "Epoch 79/80\n",
      "2758/2758 - 7s - loss: 0.5453 - accuracy: 0.7746 - val_loss: 0.5265 - val_accuracy: 0.7811 - lr: 1.0000e-05 - 7s/epoch - 2ms/step\n",
      "Epoch 80/80\n",
      "2758/2758 - 7s - loss: 0.5446 - accuracy: 0.7749 - val_loss: 0.5262 - val_accuracy: 0.7811 - lr: 1.0000e-05 - 7s/epoch - 2ms/step\n"
     ]
    }
   ],
   "execution_count": 30
  },
  {
   "metadata": {
    "ExecuteTime": {
     "end_time": "2024-08-27T12:52:37.667225Z",
     "start_time": "2024-08-27T12:52:37.479631Z"
    }
   },
   "cell_type": "code",
   "source": [
    "plt.figure(figsize=(12, 4))\n",
    "\n",
    "# Plot accuracy history\n",
    "plt.subplot(1, 2, 1)\n",
    "plt.plot(history.history['accuracy'], label='Train Accuracy')\n",
    "plt.plot(history.history['val_accuracy'], label='Validation Accuracy')\n",
    "plt.title('Accuracy')\n",
    "plt.xlabel('Epoch')\n",
    "plt.ylabel('Accuracy')\n",
    "plt.legend()\n",
    "\n",
    "# Plot loss history\n",
    "plt.subplot(1, 2, 2)\n",
    "plt.plot(history.history['loss'], label='Train Loss')\n",
    "plt.plot(history.history['val_loss'], label='Validation Loss')\n",
    "plt.title('Loss')\n",
    "plt.xlabel('Epoch')\n",
    "plt.ylabel('Loss')\n",
    "plt.legend()\n",
    "\n",
    "plt.tight_layout()\n",
    "plt.show()"
   ],
   "id": "8f93e570ae3f7817",
   "outputs": [
    {
     "data": {
      "text/plain": [
       "<Figure size 1200x400 with 2 Axes>"
      ],
      "image/png": "[encoded data removed]"
     },
     "metadata": {},
     "output_type": "display_data"
    }
   ],
   "execution_count": 31
  },
  {
   "metadata": {
    "ExecuteTime": {
     "end_time": "2024-08-27T12:52:38.516887Z",
     "start_time": "2024-08-27T12:52:37.668551Z"
    }
   },
   "cell_type": "code",
   "source": [
    "loss, accuracy = model.evaluate(X_test, y_test)\n",
    "print(f\"Loss: {loss}, Accuracy: {accuracy * 100:.4f}%\")"
   ],
   "id": "b324155c30e733b",
   "outputs": [
    {
     "name": "stdout",
     "output_type": "stream",
     "text": [
      "811/811 [==============================] - 1s 952us/step - loss: 0.5162 - accuracy: 0.7849\n",
      "Loss: 0.5161770582199097, Accuracy: 78.4864%\n"
     ]
    }
   ],
   "execution_count": 32
  },
  {
   "metadata": {
    "ExecuteTime": {
     "end_time": "2024-08-27T12:52:39.336371Z",
     "start_time": "2024-08-27T12:52:38.518420Z"
    }
   },
   "cell_type": "code",
   "source": [
    "y_pred = model.predict(X_test)\n",
    "y_pred = np.argmax(y_pred, axis=1)\n",
    "y_test = np.argmax(y_test, axis=1)\n",
    "acc = accuracy_score(y_test, y_pred)\n",
    "print(f\"Accuracy: {acc * 100:.2f}%\")"
   ],
   "id": "48a40ef34aa382a3",
   "outputs": [
    {
     "name": "stdout",
     "output_type": "stream",
     "text": [
      "811/811 [==============================] - 1s 782us/step\n",
      "Accuracy: 78.49%\n"
     ]
    }
   ],
   "execution_count": 33
  },
  {
   "metadata": {
    "ExecuteTime": {
     "end_time": "2024-08-27T12:52:39.380745Z",
     "start_time": "2024-08-27T12:52:39.337240Z"
    }
   },
   "cell_type": "code",
   "source": "print(classification_report(y_test, y_pred, target_names=EVENTS_AASM_NEU))",
   "id": "203d684d536d1036",
   "outputs": [
    {
     "name": "stdout",
     "output_type": "stream",
     "text": [
      "              precision    recall  f1-score   support\n",
      "\n",
      "         REM       0.85      0.84      0.84      3175\n",
      "      NREM 1       0.77      0.75      0.76      8431\n",
      "      NREM 2       0.71      0.73      0.72      6063\n",
      "      NREM 3       0.83      0.81      0.82      4007\n",
      "        Wake       0.83      0.88      0.86      4275\n",
      "\n",
      "    accuracy                           0.78     25951\n",
      "   macro avg       0.80      0.80      0.80     25951\n",
      "weighted avg       0.78      0.78      0.78     25951\n",
      "\n"
     ]
    }
   ],
   "execution_count": 34
  },
  {
   "metadata": {
    "ExecuteTime": {
     "end_time": "2024-08-27T12:52:39.487045Z",
     "start_time": "2024-08-27T12:52:39.381811Z"
    }
   },
   "cell_type": "code",
   "source": [
    "cm = confusion_matrix(y_test, y_pred)\n",
    "disp = ConfusionMatrixDisplay(confusion_matrix=cm, display_labels=EVENTS_AASM_NEU.keys())\n",
    "fig, ax = plt.subplots(figsize=(6, 6))\n",
    "disp.plot(cmap=plt.cm.Blues,ax=ax, values_format='d', xticks_rotation=90)\n",
    "ax.grid(False)\n",
    "plt.show()"
   ],
   "id": "6237a6fdb5ddfa95",
   "outputs": [
    {
     "data": {
      "text/plain": [
       "<Figure size 600x600 with 2 Axes>"
      ],
      "image/png": "[encoded data removed]"
     },
     "metadata": {},
     "output_type": "display_data"
    }
   ],
   "execution_count": 35
  }
 ],
 "metadata": {
  "kernelspec": {
   "display_name": "Python 3",
   "language": "python",
   "name": "python3"
  },
  "language_info": {
   "codemirror_mode": {
    "name": "ipython",
    "version": 2
   },
   "file_extension": ".py",
   "mimetype": "text/x-python",
   "name": "python",
   "nbconvert_exporter": "python",
   "pygments_lexer": "ipython2",
   "version": "2.7.6"
  }
 },
 "nbformat": 4,
 "nbformat_minor": 5
}
